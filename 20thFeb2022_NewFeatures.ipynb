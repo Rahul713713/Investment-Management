{
 "cells": [
  {
   "cell_type": "markdown",
   "metadata": {},
   "source": [
    "## Importing all the libraries"
   ]
  },
  {
   "cell_type": "code",
   "execution_count": 1,
   "metadata": {},
   "outputs": [],
   "source": [
    "#Importing the libraries\n",
    "import json\n",
    "import pandas as pd\n",
    "import numpy as np\n",
    "import matplotlib.pyplot as plt\n",
    "import seaborn as sns\n",
    "import warnings\n",
    "warnings.filterwarnings(\"ignore\")"
   ]
  },
  {
   "cell_type": "code",
   "execution_count": 2,
   "metadata": {},
   "outputs": [],
   "source": [
    "final = pd.read_csv(\"16thFeb2022_100k_120k_data_merged_with_sf_v2.csv\")"
   ]
  },
  {
   "cell_type": "code",
   "execution_count": 3,
   "metadata": {},
   "outputs": [],
   "source": [
    "final.drop(columns =['Unnamed: 0','code','l1_finish_time','l1_pc','DXCAT3',\n",
    "                    'query_source','telehealth_encounter',\n",
    "                    'DX Category','DX Context'],axis = 1,inplace = True)"
   ]
  },
  {
   "cell_type": "code",
   "execution_count": 4,
   "metadata": {},
   "outputs": [
    {
     "data": {
      "text/plain": [
       "(2088529, 40)"
      ]
     },
     "execution_count": 4,
     "metadata": {},
     "output_type": "execute_result"
    }
   ],
   "source": [
    "final.shape"
   ]
  },
  {
   "cell_type": "code",
   "execution_count": 5,
   "metadata": {},
   "outputs": [],
   "source": [
    "for column in final:\n",
    "    if final[column].dtype == 'float64':\n",
    "        final[column] = pd.to_numeric(final[column], downcast = 'float')\n",
    "    if final[column].dtype == 'int64':\n",
    "        final[column] = pd.to_numeric(final[column], downcast = 'unsigned')"
   ]
  },
  {
   "cell_type": "code",
   "execution_count": 6,
   "metadata": {},
   "outputs": [
    {
     "data": {
      "text/plain": [
       "Index(['code1', 'final_codes', 'DX Codetype', 'DX Condition Type', 'enc_id',\n",
       "       'meat', 'text', 'page', 'section', 'NLP_VERSION',\n",
       "       'parent_rxcui_mapping', 'final_code_family', 'dos_start', 'dos_end',\n",
       "       'enc_class', 'unique_codes', 'code_count', 'npi.type', 'chart_id',\n",
       "       'medicine_count', 'labtest_count',\n",
       "       'embedded radiology/lab results_count', 'devices_count',\n",
       "       'abnormal findings_count', 'generic term_count', 'plan_count',\n",
       "       'procedure_count', 'radiology_count', 'labs_count', 'rx_count',\n",
       "       'referral_count', 'symptoms_count', 'therapy_count', 'procedures_count',\n",
       "       'others_count', 'physical_exam_count', 'evaluatory_term_count',\n",
       "       'imaging_count', 'project_id', 'output'],\n",
       "      dtype='object')"
      ]
     },
     "execution_count": 6,
     "metadata": {},
     "output_type": "execute_result"
    }
   ],
   "source": [
    "final.columns"
   ]
  },
  {
   "cell_type": "code",
   "execution_count": 7,
   "metadata": {},
   "outputs": [
    {
     "data": {
      "text/plain": [
       "(209, 40)"
      ]
     },
     "execution_count": 7,
     "metadata": {},
     "output_type": "execute_result"
    }
   ],
   "source": [
    "final[final['dos_start'].isna()].shape"
   ]
  },
  {
   "cell_type": "code",
   "execution_count": 8,
   "metadata": {},
   "outputs": [],
   "source": [
    "final.dropna(axis=0, subset=['dos_start','dos_end'],inplace = True)"
   ]
  },
  {
   "cell_type": "code",
   "execution_count": 9,
   "metadata": {},
   "outputs": [],
   "source": [
    "for column in final:\n",
    "    if final[column].dtype == 'float64':\n",
    "        final[column] = pd.to_numeric(final[column], downcast = 'float')\n",
    "    if final[column].dtype == 'int64':\n",
    "        final[column] = pd.to_numeric(final[column], downcast = 'unsigned')"
   ]
  },
  {
   "cell_type": "markdown",
   "metadata": {},
   "source": [
    "## Creating New Features"
   ]
  },
  {
   "cell_type": "markdown",
   "metadata": {},
   "source": [
    "#### Features related to meat"
   ]
  },
  {
   "cell_type": "code",
   "execution_count": 10,
   "metadata": {},
   "outputs": [
    {
     "data": {
      "text/plain": [
       "[]                                                                                                                                                                                                                                                                                                                                                                                                                                                                                                                                                                                                                                                                                                                                                                                                                                                                                                                                                                                                                                                                         515582\n",
       "['49-11', '49-2217', '50-490', '51-1209', '51-1486', '52-2107', '53-28', '54-1209', '54-1486', '60-768', '60-1477', '62-309', '62-586', '63-1379', '63-2088', '65-1194', '65-1471', '67-231', '67-940', '68-1895', '70-2434', '70-3143', '72-1116', '80-2551', '80-3260', '82-1026']                                                                                                                                                                                                                                                                                                                                                                                                                                                                                                                                                                                                                                                                                                                                                                                          208\n",
       "['589-1562', '589-1672', '590-746', '590-825', '590-1342', '590-1408', '590-1458', '590-1510', '590-1751', '590-1812', '590-3679', '590-3734', '590-3789', '591-740', '591-791', '591-890', '591-1450', '591-1511', '591-1566', '591-2229', '592-425', '592-505', '592-626', '592-1849', '592-1923', '592-1953', '592-2043', '593-2121', '595-681', '595-693', '595-1272', '595-1285', '595-1472', '595-1487', '596-684', '596-696', '596-804', '597-2541', '597-2639', '597-2714', '597-2858', '597-2873', '598-790', '598-1700', '598-1774', '598-1847', '598-1938', '598-2001', '598-2079', '602-538', '602-1406', '602-1452', '602-1504', '605-257', '605-322', '609-582', '609-597', '609-709', '609-722', '609-881', '609-896', '609-928', '609-941', '610-612', '610-624', '610-1198', '610-1211', '610-1450', '610-1465', '610-2279', '610-2291', '611-228', '613-251', '613-263', '613-1585', '613-1598', '614-395', '614-410', '615-911', '615-923', '615-1177', '616-703', '616-715', '616-1297', '616-1310', '616-1500', '616-1515', '616-2378', '617-149']       160\n",
       "['327-2047', '327-2077', '327-2123', '327-2149', '328-401', '328-452', '328-505', '328-3011', '328-3799', '329-507', '329-733', '329-788', '329-1149', '329-1198', '329-1232', '329-1327', '329-1463', '329-1583', '329-1708', '329-1750', '329-1902', '329-1958', '329-2159', '329-2230', '329-2319', '330-469', '330-495', '330-525', '330-571', '333-472', '333-484', '333-1090', '333-1103', '333-1332', '334-804', '334-816', '334-936', '335-1261', '335-1297', '335-1335', '337-632', '338-684', '338-714', '338-760', '338-789', '342-1624', '342-1688', '347-245', '347-258', '347-518', '347-531', '347-1686', '347-1698', '347-1960', '347-1973', '348-228', '348-243', '348-1175', '348-1187', '348-1311', '350-807', '350-819', '351-492', '351-505', '351-1039', '351-1054', '352-1536', '352-1548', '353-172', '353-1628', '353-1640', '353-2249', '353-2262', '354-149', '354-164', '354-1074', '354-1086', '354-1210']                                                                                                                                       160\n",
       "['93-867', '93-2142', '94-1569', '95-1182', '96-1579', '96-2280', '97-905', '97-2371', '98-184', '98-889', '99-240', '99-1642', '99-2772', '100-1811', '100-2229', '101-914', '101-2359', '102-761', '102-2687', '104-1143', '104-2146', '105-896', '105-1633', '106-353', '106-1778', '106-2227', '107-331', '107-345', '107-480', '107-1504', '125-457', '125-475', '125-716', '125-734', '125-909', '125-927', '125-1314', '125-1332', '126-15', '126-33', '127-139', '127-157', '127-332', '127-350', '127-525', '127-543', '127-741', '127-759', '127-972', '127-990', '127-1165', '127-1183', '128-81', '128-99', '128-435', '128-505', '128-523', '128-776', '128-794', '128-876', '128-1039', '128-1057', '128-1267', '128-1337', '128-1355', '128-1437', '128-1453', '134-2668', '135-271', '135-384', '136-171', '136-637', '136-652', '136-691']                                                                                                                                                                                                                   148\n",
       "Name: meat, dtype: int64"
      ]
     },
     "execution_count": 10,
     "metadata": {},
     "output_type": "execute_result"
    }
   ],
   "source": [
    "final.meat.value_counts().head()"
   ]
  },
  {
   "cell_type": "code",
   "execution_count": 11,
   "metadata": {},
   "outputs": [],
   "source": [
    "final[\"Has MEAT\"] = np.where(final[\"meat\"] != \"[]\",1,0)"
   ]
  },
  {
   "cell_type": "code",
   "execution_count": 12,
   "metadata": {},
   "outputs": [
    {
     "data": {
      "text/plain": [
       "1    1572738\n",
       "0     515582\n",
       "Name: Has MEAT, dtype: int64"
      ]
     },
     "execution_count": 12,
     "metadata": {},
     "output_type": "execute_result"
    }
   ],
   "source": [
    "final[\"Has MEAT\"].value_counts()"
   ]
  },
  {
   "cell_type": "code",
   "execution_count": 13,
   "metadata": {},
   "outputs": [
    {
     "data": {
      "text/plain": [
       "Index(['code1', 'final_codes', 'DX Codetype', 'DX Condition Type', 'enc_id',\n",
       "       'meat', 'text', 'page', 'section', 'NLP_VERSION',\n",
       "       'parent_rxcui_mapping', 'final_code_family', 'dos_start', 'dos_end',\n",
       "       'enc_class', 'unique_codes', 'code_count', 'npi.type', 'chart_id',\n",
       "       'medicine_count', 'labtest_count',\n",
       "       'embedded radiology/lab results_count', 'devices_count',\n",
       "       'abnormal findings_count', 'generic term_count', 'plan_count',\n",
       "       'procedure_count', 'radiology_count', 'labs_count', 'rx_count',\n",
       "       'referral_count', 'symptoms_count', 'therapy_count', 'procedures_count',\n",
       "       'others_count', 'physical_exam_count', 'evaluatory_term_count',\n",
       "       'imaging_count', 'project_id', 'output', 'Has MEAT'],\n",
       "      dtype='object')"
      ]
     },
     "execution_count": 13,
     "metadata": {},
     "output_type": "execute_result"
    }
   ],
   "source": [
    "final.columns"
   ]
  },
  {
   "cell_type": "code",
   "execution_count": 14,
   "metadata": {},
   "outputs": [
    {
     "data": {
      "text/plain": [
       "0      947306\n",
       "1      151846\n",
       "2      149066\n",
       "3      120085\n",
       "4      112248\n",
       "        ...  \n",
       "128         1\n",
       "260         1\n",
       "265         1\n",
       "208         1\n",
       "194         1\n",
       "Name: rx_count, Length: 192, dtype: int64"
      ]
     },
     "execution_count": 14,
     "metadata": {},
     "output_type": "execute_result"
    }
   ],
   "source": [
    "final[\"rx_count\"].value_counts()"
   ]
  },
  {
   "cell_type": "code",
   "execution_count": 15,
   "metadata": {},
   "outputs": [],
   "source": [
    "final[\"Has RX MEAT\"] = np.where((final[\"rx_count\"] != 0) | (final[\"medicine_count\"] != 0),1,0)"
   ]
  },
  {
   "cell_type": "code",
   "execution_count": 16,
   "metadata": {},
   "outputs": [
    {
     "data": {
      "text/plain": [
       "1    1366083\n",
       "0     722237\n",
       "Name: Has RX MEAT, dtype: int64"
      ]
     },
     "execution_count": 16,
     "metadata": {},
     "output_type": "execute_result"
    }
   ],
   "source": [
    "final[\"Has RX MEAT\"].value_counts()"
   ]
  },
  {
   "cell_type": "code",
   "execution_count": 17,
   "metadata": {},
   "outputs": [],
   "source": [
    "final[\"Has Procedure MEAT\"] = np.where((final[\"procedure_count\"] != 0) | (final[\"procedures_count\"] != 0) ,1,0)"
   ]
  },
  {
   "cell_type": "code",
   "execution_count": 18,
   "metadata": {},
   "outputs": [],
   "source": [
    "final[\"Has Labs MEAT\"] = np.where((final[\"labs_count\"] != 0) | (final[\"labtest_count\"] != 0),1,0)"
   ]
  },
  {
   "cell_type": "code",
   "execution_count": 19,
   "metadata": {},
   "outputs": [
    {
     "data": {
      "text/plain": [
       "1    1366083\n",
       "0     722237\n",
       "Name: Has RX MEAT, dtype: int64"
      ]
     },
     "execution_count": 19,
     "metadata": {},
     "output_type": "execute_result"
    }
   ],
   "source": [
    "final[\"Has RX MEAT\"].value_counts()"
   ]
  },
  {
   "cell_type": "code",
   "execution_count": 20,
   "metadata": {},
   "outputs": [
    {
     "data": {
      "text/plain": [
       "0    1359708\n",
       "1     728612\n",
       "Name: Has Labs MEAT, dtype: int64"
      ]
     },
     "execution_count": 20,
     "metadata": {},
     "output_type": "execute_result"
    }
   ],
   "source": [
    "final[\"Has Labs MEAT\"].value_counts()"
   ]
  },
  {
   "cell_type": "markdown",
   "metadata": {},
   "source": [
    "#### Other Features"
   ]
  },
  {
   "cell_type": "code",
   "execution_count": 21,
   "metadata": {},
   "outputs": [],
   "source": [
    "number_of_encounters_per_chart = pd.DataFrame(final.groupby(\"chart_id\").enc_id.nunique()).reset_index()"
   ]
  },
  {
   "cell_type": "code",
   "execution_count": 22,
   "metadata": {},
   "outputs": [],
   "source": [
    "number_of_encounters_per_chart.columns = [\"chart_id\",\"number_of_encounters_per_chart\"]"
   ]
  },
  {
   "cell_type": "code",
   "execution_count": 23,
   "metadata": {},
   "outputs": [
    {
     "data": {
      "text/html": [
       "<div>\n",
       "<style scoped>\n",
       "    .dataframe tbody tr th:only-of-type {\n",
       "        vertical-align: middle;\n",
       "    }\n",
       "\n",
       "    .dataframe tbody tr th {\n",
       "        vertical-align: top;\n",
       "    }\n",
       "\n",
       "    .dataframe thead th {\n",
       "        text-align: right;\n",
       "    }\n",
       "</style>\n",
       "<table border=\"1\" class=\"dataframe\">\n",
       "  <thead>\n",
       "    <tr style=\"text-align: right;\">\n",
       "      <th></th>\n",
       "      <th>chart_id</th>\n",
       "      <th>number_of_encounters_per_chart</th>\n",
       "    </tr>\n",
       "  </thead>\n",
       "  <tbody>\n",
       "    <tr>\n",
       "      <th>0</th>\n",
       "      <td>39358</td>\n",
       "      <td>21</td>\n",
       "    </tr>\n",
       "    <tr>\n",
       "      <th>1</th>\n",
       "      <td>39388</td>\n",
       "      <td>5</td>\n",
       "    </tr>\n",
       "    <tr>\n",
       "      <th>2</th>\n",
       "      <td>39400</td>\n",
       "      <td>2</td>\n",
       "    </tr>\n",
       "    <tr>\n",
       "      <th>3</th>\n",
       "      <td>393645</td>\n",
       "      <td>5</td>\n",
       "    </tr>\n",
       "    <tr>\n",
       "      <th>4</th>\n",
       "      <td>393649</td>\n",
       "      <td>4</td>\n",
       "    </tr>\n",
       "    <tr>\n",
       "      <th>...</th>\n",
       "      <td>...</td>\n",
       "      <td>...</td>\n",
       "    </tr>\n",
       "    <tr>\n",
       "      <th>19943</th>\n",
       "      <td>537BD86C-98D8-4B75-B0FE-AB5E1E351957</td>\n",
       "      <td>1</td>\n",
       "    </tr>\n",
       "    <tr>\n",
       "      <th>19944</th>\n",
       "      <td>5382</td>\n",
       "      <td>3</td>\n",
       "    </tr>\n",
       "    <tr>\n",
       "      <th>19945</th>\n",
       "      <td>5387858</td>\n",
       "      <td>1</td>\n",
       "    </tr>\n",
       "    <tr>\n",
       "      <th>19946</th>\n",
       "      <td>539049</td>\n",
       "      <td>10</td>\n",
       "    </tr>\n",
       "    <tr>\n",
       "      <th>19947</th>\n",
       "      <td>5390815-1LR-2021-22</td>\n",
       "      <td>5</td>\n",
       "    </tr>\n",
       "  </tbody>\n",
       "</table>\n",
       "<p>19948 rows × 2 columns</p>\n",
       "</div>"
      ],
      "text/plain": [
       "                                   chart_id  number_of_encounters_per_chart\n",
       "0                                     39358                              21\n",
       "1                                     39388                               5\n",
       "2                                     39400                               2\n",
       "3                                    393645                               5\n",
       "4                                    393649                               4\n",
       "...                                     ...                             ...\n",
       "19943  537BD86C-98D8-4B75-B0FE-AB5E1E351957                               1\n",
       "19944                                  5382                               3\n",
       "19945                               5387858                               1\n",
       "19946                                539049                              10\n",
       "19947                   5390815-1LR-2021-22                               5\n",
       "\n",
       "[19948 rows x 2 columns]"
      ]
     },
     "execution_count": 23,
     "metadata": {},
     "output_type": "execute_result"
    }
   ],
   "source": [
    "number_of_encounters_per_chart"
   ]
  },
  {
   "cell_type": "code",
   "execution_count": 24,
   "metadata": {},
   "outputs": [],
   "source": [
    "final = final.merge(number_of_encounters_per_chart, on = 'chart_id', how='left')"
   ]
  },
  {
   "cell_type": "code",
   "execution_count": 25,
   "metadata": {},
   "outputs": [],
   "source": [
    "number_of_codes_per_chart = pd.DataFrame(final.groupby(\"chart_id\").code1.nunique()).reset_index()"
   ]
  },
  {
   "cell_type": "code",
   "execution_count": 26,
   "metadata": {},
   "outputs": [],
   "source": [
    "number_of_codes_per_chart.columns = [\"chart_id\",\"number_of_code1_per_chart\"]"
   ]
  },
  {
   "cell_type": "code",
   "execution_count": 27,
   "metadata": {},
   "outputs": [
    {
     "data": {
      "text/html": [
       "<div>\n",
       "<style scoped>\n",
       "    .dataframe tbody tr th:only-of-type {\n",
       "        vertical-align: middle;\n",
       "    }\n",
       "\n",
       "    .dataframe tbody tr th {\n",
       "        vertical-align: top;\n",
       "    }\n",
       "\n",
       "    .dataframe thead th {\n",
       "        text-align: right;\n",
       "    }\n",
       "</style>\n",
       "<table border=\"1\" class=\"dataframe\">\n",
       "  <thead>\n",
       "    <tr style=\"text-align: right;\">\n",
       "      <th></th>\n",
       "      <th>chart_id</th>\n",
       "      <th>number_of_code1_per_chart</th>\n",
       "    </tr>\n",
       "  </thead>\n",
       "  <tbody>\n",
       "    <tr>\n",
       "      <th>0</th>\n",
       "      <td>39358</td>\n",
       "      <td>2</td>\n",
       "    </tr>\n",
       "    <tr>\n",
       "      <th>1</th>\n",
       "      <td>39388</td>\n",
       "      <td>7</td>\n",
       "    </tr>\n",
       "    <tr>\n",
       "      <th>2</th>\n",
       "      <td>39400</td>\n",
       "      <td>3</td>\n",
       "    </tr>\n",
       "    <tr>\n",
       "      <th>3</th>\n",
       "      <td>393645</td>\n",
       "      <td>14</td>\n",
       "    </tr>\n",
       "    <tr>\n",
       "      <th>4</th>\n",
       "      <td>393649</td>\n",
       "      <td>11</td>\n",
       "    </tr>\n",
       "    <tr>\n",
       "      <th>...</th>\n",
       "      <td>...</td>\n",
       "      <td>...</td>\n",
       "    </tr>\n",
       "    <tr>\n",
       "      <th>19943</th>\n",
       "      <td>537BD86C-98D8-4B75-B0FE-AB5E1E351957</td>\n",
       "      <td>2</td>\n",
       "    </tr>\n",
       "    <tr>\n",
       "      <th>19944</th>\n",
       "      <td>5382</td>\n",
       "      <td>6</td>\n",
       "    </tr>\n",
       "    <tr>\n",
       "      <th>19945</th>\n",
       "      <td>5387858</td>\n",
       "      <td>1</td>\n",
       "    </tr>\n",
       "    <tr>\n",
       "      <th>19946</th>\n",
       "      <td>539049</td>\n",
       "      <td>6</td>\n",
       "    </tr>\n",
       "    <tr>\n",
       "      <th>19947</th>\n",
       "      <td>5390815-1LR-2021-22</td>\n",
       "      <td>8</td>\n",
       "    </tr>\n",
       "  </tbody>\n",
       "</table>\n",
       "<p>19948 rows × 2 columns</p>\n",
       "</div>"
      ],
      "text/plain": [
       "                                   chart_id  number_of_code1_per_chart\n",
       "0                                     39358                          2\n",
       "1                                     39388                          7\n",
       "2                                     39400                          3\n",
       "3                                    393645                         14\n",
       "4                                    393649                         11\n",
       "...                                     ...                        ...\n",
       "19943  537BD86C-98D8-4B75-B0FE-AB5E1E351957                          2\n",
       "19944                                  5382                          6\n",
       "19945                               5387858                          1\n",
       "19946                                539049                          6\n",
       "19947                   5390815-1LR-2021-22                          8\n",
       "\n",
       "[19948 rows x 2 columns]"
      ]
     },
     "execution_count": 27,
     "metadata": {},
     "output_type": "execute_result"
    }
   ],
   "source": [
    "number_of_codes_per_chart"
   ]
  },
  {
   "cell_type": "code",
   "execution_count": 28,
   "metadata": {},
   "outputs": [],
   "source": [
    "final = final.merge(number_of_codes_per_chart, on = 'chart_id', how='left')"
   ]
  },
  {
   "cell_type": "code",
   "execution_count": 29,
   "metadata": {},
   "outputs": [],
   "source": [
    "number_of_occurences_of_code1_per_chart = pd.DataFrame(final.reset_index().groupby([\"chart_id\",\"code1\"]).index.count()).reset_index()"
   ]
  },
  {
   "cell_type": "code",
   "execution_count": 30,
   "metadata": {},
   "outputs": [
    {
     "data": {
      "text/html": [
       "<div>\n",
       "<style scoped>\n",
       "    .dataframe tbody tr th:only-of-type {\n",
       "        vertical-align: middle;\n",
       "    }\n",
       "\n",
       "    .dataframe tbody tr th {\n",
       "        vertical-align: top;\n",
       "    }\n",
       "\n",
       "    .dataframe thead th {\n",
       "        text-align: right;\n",
       "    }\n",
       "</style>\n",
       "<table border=\"1\" class=\"dataframe\">\n",
       "  <thead>\n",
       "    <tr style=\"text-align: right;\">\n",
       "      <th></th>\n",
       "      <th>chart_id</th>\n",
       "      <th>code1</th>\n",
       "      <th>index</th>\n",
       "    </tr>\n",
       "  </thead>\n",
       "  <tbody>\n",
       "    <tr>\n",
       "      <th>0</th>\n",
       "      <td>39358</td>\n",
       "      <td>G809</td>\n",
       "      <td>186</td>\n",
       "    </tr>\n",
       "    <tr>\n",
       "      <th>1</th>\n",
       "      <td>39358</td>\n",
       "      <td>Z684</td>\n",
       "      <td>19</td>\n",
       "    </tr>\n",
       "    <tr>\n",
       "      <th>2</th>\n",
       "      <td>39388</td>\n",
       "      <td>I10</td>\n",
       "      <td>28</td>\n",
       "    </tr>\n",
       "    <tr>\n",
       "      <th>3</th>\n",
       "      <td>39388</td>\n",
       "      <td>I5030</td>\n",
       "      <td>3</td>\n",
       "    </tr>\n",
       "    <tr>\n",
       "      <th>4</th>\n",
       "      <td>39388</td>\n",
       "      <td>I509</td>\n",
       "      <td>56</td>\n",
       "    </tr>\n",
       "    <tr>\n",
       "      <th>5</th>\n",
       "      <td>39388</td>\n",
       "      <td>L98499</td>\n",
       "      <td>5</td>\n",
       "    </tr>\n",
       "    <tr>\n",
       "      <th>6</th>\n",
       "      <td>39388</td>\n",
       "      <td>N189</td>\n",
       "      <td>13</td>\n",
       "    </tr>\n",
       "    <tr>\n",
       "      <th>7</th>\n",
       "      <td>39388</td>\n",
       "      <td>R569</td>\n",
       "      <td>5</td>\n",
       "    </tr>\n",
       "    <tr>\n",
       "      <th>8</th>\n",
       "      <td>39388</td>\n",
       "      <td>Z684</td>\n",
       "      <td>5</td>\n",
       "    </tr>\n",
       "    <tr>\n",
       "      <th>9</th>\n",
       "      <td>39400</td>\n",
       "      <td>E119</td>\n",
       "      <td>2</td>\n",
       "    </tr>\n",
       "  </tbody>\n",
       "</table>\n",
       "</div>"
      ],
      "text/plain": [
       "  chart_id   code1  index\n",
       "0    39358    G809    186\n",
       "1    39358    Z684     19\n",
       "2    39388     I10     28\n",
       "3    39388   I5030      3\n",
       "4    39388    I509     56\n",
       "5    39388  L98499      5\n",
       "6    39388    N189     13\n",
       "7    39388    R569      5\n",
       "8    39388    Z684      5\n",
       "9    39400    E119      2"
      ]
     },
     "execution_count": 30,
     "metadata": {},
     "output_type": "execute_result"
    }
   ],
   "source": [
    "number_of_occurences_of_code1_per_chart.head(10)"
   ]
  },
  {
   "cell_type": "code",
   "execution_count": 31,
   "metadata": {},
   "outputs": [],
   "source": [
    "number_of_occurences_of_code1_per_chart.columns = [\"chart_id\",\"code1\",\"number_of_occurences_of_code1_per_chart\"]"
   ]
  },
  {
   "cell_type": "code",
   "execution_count": 32,
   "metadata": {},
   "outputs": [
    {
     "data": {
      "text/html": [
       "<div>\n",
       "<style scoped>\n",
       "    .dataframe tbody tr th:only-of-type {\n",
       "        vertical-align: middle;\n",
       "    }\n",
       "\n",
       "    .dataframe tbody tr th {\n",
       "        vertical-align: top;\n",
       "    }\n",
       "\n",
       "    .dataframe thead th {\n",
       "        text-align: right;\n",
       "    }\n",
       "</style>\n",
       "<table border=\"1\" class=\"dataframe\">\n",
       "  <thead>\n",
       "    <tr style=\"text-align: right;\">\n",
       "      <th></th>\n",
       "      <th>chart_id</th>\n",
       "      <th>code1</th>\n",
       "      <th>number_of_occurences_of_code1_per_chart</th>\n",
       "    </tr>\n",
       "  </thead>\n",
       "  <tbody>\n",
       "    <tr>\n",
       "      <th>0</th>\n",
       "      <td>39358</td>\n",
       "      <td>G809</td>\n",
       "      <td>186</td>\n",
       "    </tr>\n",
       "    <tr>\n",
       "      <th>1</th>\n",
       "      <td>39358</td>\n",
       "      <td>Z684</td>\n",
       "      <td>19</td>\n",
       "    </tr>\n",
       "    <tr>\n",
       "      <th>2</th>\n",
       "      <td>39388</td>\n",
       "      <td>I10</td>\n",
       "      <td>28</td>\n",
       "    </tr>\n",
       "    <tr>\n",
       "      <th>3</th>\n",
       "      <td>39388</td>\n",
       "      <td>I5030</td>\n",
       "      <td>3</td>\n",
       "    </tr>\n",
       "    <tr>\n",
       "      <th>4</th>\n",
       "      <td>39388</td>\n",
       "      <td>I509</td>\n",
       "      <td>56</td>\n",
       "    </tr>\n",
       "    <tr>\n",
       "      <th>5</th>\n",
       "      <td>39388</td>\n",
       "      <td>L98499</td>\n",
       "      <td>5</td>\n",
       "    </tr>\n",
       "    <tr>\n",
       "      <th>6</th>\n",
       "      <td>39388</td>\n",
       "      <td>N189</td>\n",
       "      <td>13</td>\n",
       "    </tr>\n",
       "    <tr>\n",
       "      <th>7</th>\n",
       "      <td>39388</td>\n",
       "      <td>R569</td>\n",
       "      <td>5</td>\n",
       "    </tr>\n",
       "    <tr>\n",
       "      <th>8</th>\n",
       "      <td>39388</td>\n",
       "      <td>Z684</td>\n",
       "      <td>5</td>\n",
       "    </tr>\n",
       "    <tr>\n",
       "      <th>9</th>\n",
       "      <td>39400</td>\n",
       "      <td>E119</td>\n",
       "      <td>2</td>\n",
       "    </tr>\n",
       "  </tbody>\n",
       "</table>\n",
       "</div>"
      ],
      "text/plain": [
       "  chart_id   code1  number_of_occurences_of_code1_per_chart\n",
       "0    39358    G809                                      186\n",
       "1    39358    Z684                                       19\n",
       "2    39388     I10                                       28\n",
       "3    39388   I5030                                        3\n",
       "4    39388    I509                                       56\n",
       "5    39388  L98499                                        5\n",
       "6    39388    N189                                       13\n",
       "7    39388    R569                                        5\n",
       "8    39388    Z684                                        5\n",
       "9    39400    E119                                        2"
      ]
     },
     "execution_count": 32,
     "metadata": {},
     "output_type": "execute_result"
    }
   ],
   "source": [
    "number_of_occurences_of_code1_per_chart.head(10)"
   ]
  },
  {
   "cell_type": "code",
   "execution_count": 33,
   "metadata": {},
   "outputs": [],
   "source": [
    "final = final.merge(number_of_occurences_of_code1_per_chart, on = ['chart_id','code1'], how='left')"
   ]
  },
  {
   "cell_type": "code",
   "execution_count": 34,
   "metadata": {},
   "outputs": [],
   "source": [
    "final[\"DX incidence per encounter\"] = final[\"number_of_occurences_of_code1_per_chart\"]/final[\"number_of_encounters_per_chart\"]"
   ]
  },
  {
   "cell_type": "code",
   "execution_count": 35,
   "metadata": {},
   "outputs": [
    {
     "data": {
      "text/plain": [
       "0          4.000000\n",
       "1          4.000000\n",
       "2          1.000000\n",
       "3          4.000000\n",
       "4          0.333333\n",
       "             ...   \n",
       "2088315    4.000000\n",
       "2088316    4.000000\n",
       "2088317    3.000000\n",
       "2088318    4.000000\n",
       "2088319    4.000000\n",
       "Name: DX incidence per encounter, Length: 2088320, dtype: float64"
      ]
     },
     "execution_count": 35,
     "metadata": {},
     "output_type": "execute_result"
    }
   ],
   "source": [
    "final[\"DX incidence per encounter\"]"
   ]
  },
  {
   "cell_type": "code",
   "execution_count": 36,
   "metadata": {},
   "outputs": [],
   "source": [
    "number_of_encounters_per_chart_and_code1 = pd.DataFrame(final.groupby([\"chart_id\",\"code1\"]).enc_id.nunique()).reset_index()"
   ]
  },
  {
   "cell_type": "code",
   "execution_count": 37,
   "metadata": {},
   "outputs": [],
   "source": [
    "number_of_encounters_per_chart_and_code1.columns = [\"chart_id\",\"code1\",\"number_of_encounters_per_chart_and_code1\"]"
   ]
  },
  {
   "cell_type": "code",
   "execution_count": 38,
   "metadata": {},
   "outputs": [
    {
     "data": {
      "text/html": [
       "<div>\n",
       "<style scoped>\n",
       "    .dataframe tbody tr th:only-of-type {\n",
       "        vertical-align: middle;\n",
       "    }\n",
       "\n",
       "    .dataframe tbody tr th {\n",
       "        vertical-align: top;\n",
       "    }\n",
       "\n",
       "    .dataframe thead th {\n",
       "        text-align: right;\n",
       "    }\n",
       "</style>\n",
       "<table border=\"1\" class=\"dataframe\">\n",
       "  <thead>\n",
       "    <tr style=\"text-align: right;\">\n",
       "      <th></th>\n",
       "      <th>chart_id</th>\n",
       "      <th>code1</th>\n",
       "      <th>number_of_encounters_per_chart_and_code1</th>\n",
       "    </tr>\n",
       "  </thead>\n",
       "  <tbody>\n",
       "    <tr>\n",
       "      <th>0</th>\n",
       "      <td>39358</td>\n",
       "      <td>G809</td>\n",
       "      <td>21</td>\n",
       "    </tr>\n",
       "    <tr>\n",
       "      <th>1</th>\n",
       "      <td>39358</td>\n",
       "      <td>Z684</td>\n",
       "      <td>19</td>\n",
       "    </tr>\n",
       "    <tr>\n",
       "      <th>2</th>\n",
       "      <td>39388</td>\n",
       "      <td>I10</td>\n",
       "      <td>5</td>\n",
       "    </tr>\n",
       "    <tr>\n",
       "      <th>3</th>\n",
       "      <td>39388</td>\n",
       "      <td>I5030</td>\n",
       "      <td>3</td>\n",
       "    </tr>\n",
       "    <tr>\n",
       "      <th>4</th>\n",
       "      <td>39388</td>\n",
       "      <td>I509</td>\n",
       "      <td>5</td>\n",
       "    </tr>\n",
       "    <tr>\n",
       "      <th>...</th>\n",
       "      <td>...</td>\n",
       "      <td>...</td>\n",
       "      <td>...</td>\n",
       "    </tr>\n",
       "    <tr>\n",
       "      <th>183776</th>\n",
       "      <td>5390815-1LR-2021-22</td>\n",
       "      <td>E162</td>\n",
       "      <td>1</td>\n",
       "    </tr>\n",
       "    <tr>\n",
       "      <th>183777</th>\n",
       "      <td>5390815-1LR-2021-22</td>\n",
       "      <td>I213</td>\n",
       "      <td>1</td>\n",
       "    </tr>\n",
       "    <tr>\n",
       "      <th>183778</th>\n",
       "      <td>5390815-1LR-2021-22</td>\n",
       "      <td>I214</td>\n",
       "      <td>1</td>\n",
       "    </tr>\n",
       "    <tr>\n",
       "      <th>183779</th>\n",
       "      <td>5390815-1LR-2021-22</td>\n",
       "      <td>I219</td>\n",
       "      <td>1</td>\n",
       "    </tr>\n",
       "    <tr>\n",
       "      <th>183780</th>\n",
       "      <td>5390815-1LR-2021-22</td>\n",
       "      <td>L309</td>\n",
       "      <td>1</td>\n",
       "    </tr>\n",
       "  </tbody>\n",
       "</table>\n",
       "<p>183781 rows × 3 columns</p>\n",
       "</div>"
      ],
      "text/plain": [
       "                   chart_id  code1  number_of_encounters_per_chart_and_code1\n",
       "0                     39358   G809                                        21\n",
       "1                     39358   Z684                                        19\n",
       "2                     39388    I10                                         5\n",
       "3                     39388  I5030                                         3\n",
       "4                     39388   I509                                         5\n",
       "...                     ...    ...                                       ...\n",
       "183776  5390815-1LR-2021-22   E162                                         1\n",
       "183777  5390815-1LR-2021-22   I213                                         1\n",
       "183778  5390815-1LR-2021-22   I214                                         1\n",
       "183779  5390815-1LR-2021-22   I219                                         1\n",
       "183780  5390815-1LR-2021-22   L309                                         1\n",
       "\n",
       "[183781 rows x 3 columns]"
      ]
     },
     "execution_count": 38,
     "metadata": {},
     "output_type": "execute_result"
    }
   ],
   "source": [
    "number_of_encounters_per_chart_and_code1"
   ]
  },
  {
   "cell_type": "code",
   "execution_count": 39,
   "metadata": {},
   "outputs": [],
   "source": [
    "final = final.merge(number_of_encounters_per_chart_and_code1, on = ['chart_id','code1'], how='left')"
   ]
  },
  {
   "cell_type": "code",
   "execution_count": 40,
   "metadata": {},
   "outputs": [],
   "source": [
    "number_of_pages_per_chart_per_enc = pd.DataFrame(final.groupby([\"chart_id\",\"enc_id\"]).page.nunique()).reset_index()"
   ]
  },
  {
   "cell_type": "code",
   "execution_count": 41,
   "metadata": {},
   "outputs": [],
   "source": [
    "number_of_pages_per_chart_per_enc.columns = [\"chart_id\",\"enc_id\",\"number_of_pages_per_chart_per_enc\"]"
   ]
  },
  {
   "cell_type": "code",
   "execution_count": 42,
   "metadata": {},
   "outputs": [
    {
     "data": {
      "text/html": [
       "<div>\n",
       "<style scoped>\n",
       "    .dataframe tbody tr th:only-of-type {\n",
       "        vertical-align: middle;\n",
       "    }\n",
       "\n",
       "    .dataframe tbody tr th {\n",
       "        vertical-align: top;\n",
       "    }\n",
       "\n",
       "    .dataframe thead th {\n",
       "        text-align: right;\n",
       "    }\n",
       "</style>\n",
       "<table border=\"1\" class=\"dataframe\">\n",
       "  <thead>\n",
       "    <tr style=\"text-align: right;\">\n",
       "      <th></th>\n",
       "      <th>chart_id</th>\n",
       "      <th>enc_id</th>\n",
       "      <th>number_of_pages_per_chart_per_enc</th>\n",
       "    </tr>\n",
       "  </thead>\n",
       "  <tbody>\n",
       "    <tr>\n",
       "      <th>0</th>\n",
       "      <td>39358</td>\n",
       "      <td>1</td>\n",
       "      <td>4</td>\n",
       "    </tr>\n",
       "    <tr>\n",
       "      <th>1</th>\n",
       "      <td>39358</td>\n",
       "      <td>2</td>\n",
       "      <td>3</td>\n",
       "    </tr>\n",
       "    <tr>\n",
       "      <th>2</th>\n",
       "      <td>39358</td>\n",
       "      <td>3</td>\n",
       "      <td>4</td>\n",
       "    </tr>\n",
       "    <tr>\n",
       "      <th>3</th>\n",
       "      <td>39358</td>\n",
       "      <td>4</td>\n",
       "      <td>3</td>\n",
       "    </tr>\n",
       "    <tr>\n",
       "      <th>4</th>\n",
       "      <td>39358</td>\n",
       "      <td>5</td>\n",
       "      <td>3</td>\n",
       "    </tr>\n",
       "    <tr>\n",
       "      <th>...</th>\n",
       "      <td>...</td>\n",
       "      <td>...</td>\n",
       "      <td>...</td>\n",
       "    </tr>\n",
       "    <tr>\n",
       "      <th>162909</th>\n",
       "      <td>5390815-1LR-2021-22</td>\n",
       "      <td>0</td>\n",
       "      <td>4</td>\n",
       "    </tr>\n",
       "    <tr>\n",
       "      <th>162910</th>\n",
       "      <td>5390815-1LR-2021-22</td>\n",
       "      <td>1</td>\n",
       "      <td>4</td>\n",
       "    </tr>\n",
       "    <tr>\n",
       "      <th>162911</th>\n",
       "      <td>5390815-1LR-2021-22</td>\n",
       "      <td>2</td>\n",
       "      <td>2</td>\n",
       "    </tr>\n",
       "    <tr>\n",
       "      <th>162912</th>\n",
       "      <td>5390815-1LR-2021-22</td>\n",
       "      <td>3</td>\n",
       "      <td>2</td>\n",
       "    </tr>\n",
       "    <tr>\n",
       "      <th>162913</th>\n",
       "      <td>5390815-1LR-2021-22</td>\n",
       "      <td>4</td>\n",
       "      <td>7</td>\n",
       "    </tr>\n",
       "  </tbody>\n",
       "</table>\n",
       "<p>162914 rows × 3 columns</p>\n",
       "</div>"
      ],
      "text/plain": [
       "                   chart_id  enc_id  number_of_pages_per_chart_per_enc\n",
       "0                     39358       1                                  4\n",
       "1                     39358       2                                  3\n",
       "2                     39358       3                                  4\n",
       "3                     39358       4                                  3\n",
       "4                     39358       5                                  3\n",
       "...                     ...     ...                                ...\n",
       "162909  5390815-1LR-2021-22       0                                  4\n",
       "162910  5390815-1LR-2021-22       1                                  4\n",
       "162911  5390815-1LR-2021-22       2                                  2\n",
       "162912  5390815-1LR-2021-22       3                                  2\n",
       "162913  5390815-1LR-2021-22       4                                  7\n",
       "\n",
       "[162914 rows x 3 columns]"
      ]
     },
     "execution_count": 42,
     "metadata": {},
     "output_type": "execute_result"
    }
   ],
   "source": [
    "number_of_pages_per_chart_per_enc"
   ]
  },
  {
   "cell_type": "code",
   "execution_count": 43,
   "metadata": {},
   "outputs": [],
   "source": [
    "final = final.merge(number_of_pages_per_chart_per_enc, on = ['chart_id','enc_id'], how='left')"
   ]
  },
  {
   "cell_type": "code",
   "execution_count": 44,
   "metadata": {},
   "outputs": [],
   "source": [
    "number_of_pages_in_a_chart = pd.DataFrame(final.groupby(\"chart_id\").page.nunique()).reset_index()"
   ]
  },
  {
   "cell_type": "code",
   "execution_count": 45,
   "metadata": {},
   "outputs": [],
   "source": [
    "number_of_pages_in_a_chart.columns = [\"chart_id\",\"number_of_pages_in_a_chart\"]"
   ]
  },
  {
   "cell_type": "code",
   "execution_count": 46,
   "metadata": {},
   "outputs": [
    {
     "data": {
      "text/html": [
       "<div>\n",
       "<style scoped>\n",
       "    .dataframe tbody tr th:only-of-type {\n",
       "        vertical-align: middle;\n",
       "    }\n",
       "\n",
       "    .dataframe tbody tr th {\n",
       "        vertical-align: top;\n",
       "    }\n",
       "\n",
       "    .dataframe thead th {\n",
       "        text-align: right;\n",
       "    }\n",
       "</style>\n",
       "<table border=\"1\" class=\"dataframe\">\n",
       "  <thead>\n",
       "    <tr style=\"text-align: right;\">\n",
       "      <th></th>\n",
       "      <th>chart_id</th>\n",
       "      <th>number_of_pages_in_a_chart</th>\n",
       "    </tr>\n",
       "  </thead>\n",
       "  <tbody>\n",
       "    <tr>\n",
       "      <th>0</th>\n",
       "      <td>39358</td>\n",
       "      <td>60</td>\n",
       "    </tr>\n",
       "    <tr>\n",
       "      <th>1</th>\n",
       "      <td>39388</td>\n",
       "      <td>19</td>\n",
       "    </tr>\n",
       "    <tr>\n",
       "      <th>2</th>\n",
       "      <td>39400</td>\n",
       "      <td>7</td>\n",
       "    </tr>\n",
       "    <tr>\n",
       "      <th>3</th>\n",
       "      <td>393645</td>\n",
       "      <td>26</td>\n",
       "    </tr>\n",
       "    <tr>\n",
       "      <th>4</th>\n",
       "      <td>393649</td>\n",
       "      <td>14</td>\n",
       "    </tr>\n",
       "    <tr>\n",
       "      <th>...</th>\n",
       "      <td>...</td>\n",
       "      <td>...</td>\n",
       "    </tr>\n",
       "    <tr>\n",
       "      <th>19943</th>\n",
       "      <td>537BD86C-98D8-4B75-B0FE-AB5E1E351957</td>\n",
       "      <td>2</td>\n",
       "    </tr>\n",
       "    <tr>\n",
       "      <th>19944</th>\n",
       "      <td>5382</td>\n",
       "      <td>8</td>\n",
       "    </tr>\n",
       "    <tr>\n",
       "      <th>19945</th>\n",
       "      <td>5387858</td>\n",
       "      <td>2</td>\n",
       "    </tr>\n",
       "    <tr>\n",
       "      <th>19946</th>\n",
       "      <td>539049</td>\n",
       "      <td>18</td>\n",
       "    </tr>\n",
       "    <tr>\n",
       "      <th>19947</th>\n",
       "      <td>5390815-1LR-2021-22</td>\n",
       "      <td>19</td>\n",
       "    </tr>\n",
       "  </tbody>\n",
       "</table>\n",
       "<p>19948 rows × 2 columns</p>\n",
       "</div>"
      ],
      "text/plain": [
       "                                   chart_id  number_of_pages_in_a_chart\n",
       "0                                     39358                          60\n",
       "1                                     39388                          19\n",
       "2                                     39400                           7\n",
       "3                                    393645                          26\n",
       "4                                    393649                          14\n",
       "...                                     ...                         ...\n",
       "19943  537BD86C-98D8-4B75-B0FE-AB5E1E351957                           2\n",
       "19944                                  5382                           8\n",
       "19945                               5387858                           2\n",
       "19946                                539049                          18\n",
       "19947                   5390815-1LR-2021-22                          19\n",
       "\n",
       "[19948 rows x 2 columns]"
      ]
     },
     "execution_count": 46,
     "metadata": {},
     "output_type": "execute_result"
    }
   ],
   "source": [
    "number_of_pages_in_a_chart"
   ]
  },
  {
   "cell_type": "code",
   "execution_count": 47,
   "metadata": {},
   "outputs": [],
   "source": [
    "final = final.merge(number_of_pages_in_a_chart, on = 'chart_id', how='left')"
   ]
  },
  {
   "cell_type": "code",
   "execution_count": 48,
   "metadata": {},
   "outputs": [],
   "source": [
    "number_of_unique_sections_in_a_chart = pd.DataFrame(final.groupby(\"chart_id\").section.nunique()).reset_index()"
   ]
  },
  {
   "cell_type": "code",
   "execution_count": 49,
   "metadata": {},
   "outputs": [],
   "source": [
    "number_of_unique_sections_in_a_chart.columns = [\"chart_id\",\"number_of_unique_sections_in_a_chart\"]"
   ]
  },
  {
   "cell_type": "code",
   "execution_count": 50,
   "metadata": {},
   "outputs": [
    {
     "data": {
      "text/html": [
       "<div>\n",
       "<style scoped>\n",
       "    .dataframe tbody tr th:only-of-type {\n",
       "        vertical-align: middle;\n",
       "    }\n",
       "\n",
       "    .dataframe tbody tr th {\n",
       "        vertical-align: top;\n",
       "    }\n",
       "\n",
       "    .dataframe thead th {\n",
       "        text-align: right;\n",
       "    }\n",
       "</style>\n",
       "<table border=\"1\" class=\"dataframe\">\n",
       "  <thead>\n",
       "    <tr style=\"text-align: right;\">\n",
       "      <th></th>\n",
       "      <th>chart_id</th>\n",
       "      <th>number_of_unique_sections_in_a_chart</th>\n",
       "    </tr>\n",
       "  </thead>\n",
       "  <tbody>\n",
       "    <tr>\n",
       "      <th>0</th>\n",
       "      <td>39358</td>\n",
       "      <td>8</td>\n",
       "    </tr>\n",
       "    <tr>\n",
       "      <th>1</th>\n",
       "      <td>39388</td>\n",
       "      <td>9</td>\n",
       "    </tr>\n",
       "    <tr>\n",
       "      <th>2</th>\n",
       "      <td>39400</td>\n",
       "      <td>5</td>\n",
       "    </tr>\n",
       "    <tr>\n",
       "      <th>3</th>\n",
       "      <td>393645</td>\n",
       "      <td>12</td>\n",
       "    </tr>\n",
       "    <tr>\n",
       "      <th>4</th>\n",
       "      <td>393649</td>\n",
       "      <td>4</td>\n",
       "    </tr>\n",
       "    <tr>\n",
       "      <th>...</th>\n",
       "      <td>...</td>\n",
       "      <td>...</td>\n",
       "    </tr>\n",
       "    <tr>\n",
       "      <th>19943</th>\n",
       "      <td>537BD86C-98D8-4B75-B0FE-AB5E1E351957</td>\n",
       "      <td>4</td>\n",
       "    </tr>\n",
       "    <tr>\n",
       "      <th>19944</th>\n",
       "      <td>5382</td>\n",
       "      <td>7</td>\n",
       "    </tr>\n",
       "    <tr>\n",
       "      <th>19945</th>\n",
       "      <td>5387858</td>\n",
       "      <td>2</td>\n",
       "    </tr>\n",
       "    <tr>\n",
       "      <th>19946</th>\n",
       "      <td>539049</td>\n",
       "      <td>5</td>\n",
       "    </tr>\n",
       "    <tr>\n",
       "      <th>19947</th>\n",
       "      <td>5390815-1LR-2021-22</td>\n",
       "      <td>8</td>\n",
       "    </tr>\n",
       "  </tbody>\n",
       "</table>\n",
       "<p>19948 rows × 2 columns</p>\n",
       "</div>"
      ],
      "text/plain": [
       "                                   chart_id  \\\n",
       "0                                     39358   \n",
       "1                                     39388   \n",
       "2                                     39400   \n",
       "3                                    393645   \n",
       "4                                    393649   \n",
       "...                                     ...   \n",
       "19943  537BD86C-98D8-4B75-B0FE-AB5E1E351957   \n",
       "19944                                  5382   \n",
       "19945                               5387858   \n",
       "19946                                539049   \n",
       "19947                   5390815-1LR-2021-22   \n",
       "\n",
       "       number_of_unique_sections_in_a_chart  \n",
       "0                                         8  \n",
       "1                                         9  \n",
       "2                                         5  \n",
       "3                                        12  \n",
       "4                                         4  \n",
       "...                                     ...  \n",
       "19943                                     4  \n",
       "19944                                     7  \n",
       "19945                                     2  \n",
       "19946                                     5  \n",
       "19947                                     8  \n",
       "\n",
       "[19948 rows x 2 columns]"
      ]
     },
     "execution_count": 50,
     "metadata": {},
     "output_type": "execute_result"
    }
   ],
   "source": [
    "number_of_unique_sections_in_a_chart"
   ]
  },
  {
   "cell_type": "code",
   "execution_count": 51,
   "metadata": {},
   "outputs": [],
   "source": [
    "final = final.merge(number_of_unique_sections_in_a_chart, on = 'chart_id', how='left')"
   ]
  },
  {
   "cell_type": "code",
   "execution_count": 52,
   "metadata": {},
   "outputs": [],
   "source": [
    "import ast"
   ]
  },
  {
   "cell_type": "code",
   "execution_count": 53,
   "metadata": {},
   "outputs": [],
   "source": [
    "final[\"meat\"] = final[\"meat\"].apply(lambda s: ast.literal_eval(s) if type(s) != float else [])"
   ]
  },
  {
   "cell_type": "code",
   "execution_count": 54,
   "metadata": {},
   "outputs": [],
   "source": [
    "final[\"number_of_meat_per_Dx\"] = final[\"meat\"].apply(lambda x: len(x))"
   ]
  },
  {
   "cell_type": "code",
   "execution_count": 55,
   "metadata": {},
   "outputs": [],
   "source": [
    "final[\"final_codes\"] = final[\"final_codes\"].apply(lambda s: ast.literal_eval(s) if type(s) != float else [])"
   ]
  },
  {
   "cell_type": "code",
   "execution_count": 56,
   "metadata": {},
   "outputs": [],
   "source": [
    "final[\"number_of_unique_codes_in_final_codes_per_Dx\"] = final[\"final_codes\"].apply(lambda x: len(set(x)))"
   ]
  },
  {
   "cell_type": "code",
   "execution_count": 57,
   "metadata": {},
   "outputs": [],
   "source": [
    "final[\"parent_rxcui_mapping\"] = final[\"parent_rxcui_mapping\"].apply(lambda s: ast.literal_eval(s) if type(s) != float else [])"
   ]
  },
  {
   "cell_type": "code",
   "execution_count": 58,
   "metadata": {},
   "outputs": [
    {
     "data": {
      "text/plain": [
       "[6809]"
      ]
     },
     "execution_count": 58,
     "metadata": {},
     "output_type": "execute_result"
    }
   ],
   "source": [
    "final[\"parent_rxcui_mapping\"][0]"
   ]
  },
  {
   "cell_type": "code",
   "execution_count": 59,
   "metadata": {},
   "outputs": [],
   "source": [
    "final[\"number_of_unique_parent_rxcui_mapping_per_Dx\"] = final[\"parent_rxcui_mapping\"].apply(lambda x: len(set(x)))"
   ]
  },
  {
   "cell_type": "code",
   "execution_count": 60,
   "metadata": {},
   "outputs": [],
   "source": [
    "final[\"code1_family\"] = final[\"code1\"].apply(lambda x: x[:3] if x else None)"
   ]
  },
  {
   "cell_type": "code",
   "execution_count": 61,
   "metadata": {},
   "outputs": [],
   "source": [
    "number_of_code1_family_per_chart = pd.DataFrame(final.groupby(\"chart_id\").code1_family.nunique()).reset_index()"
   ]
  },
  {
   "cell_type": "code",
   "execution_count": 62,
   "metadata": {},
   "outputs": [],
   "source": [
    "number_of_code1_family_per_chart.columns = [\"chart_id\",\"number_of_code1_family_per_chart\"]"
   ]
  },
  {
   "cell_type": "code",
   "execution_count": 63,
   "metadata": {},
   "outputs": [
    {
     "data": {
      "text/html": [
       "<div>\n",
       "<style scoped>\n",
       "    .dataframe tbody tr th:only-of-type {\n",
       "        vertical-align: middle;\n",
       "    }\n",
       "\n",
       "    .dataframe tbody tr th {\n",
       "        vertical-align: top;\n",
       "    }\n",
       "\n",
       "    .dataframe thead th {\n",
       "        text-align: right;\n",
       "    }\n",
       "</style>\n",
       "<table border=\"1\" class=\"dataframe\">\n",
       "  <thead>\n",
       "    <tr style=\"text-align: right;\">\n",
       "      <th></th>\n",
       "      <th>chart_id</th>\n",
       "      <th>number_of_code1_family_per_chart</th>\n",
       "    </tr>\n",
       "  </thead>\n",
       "  <tbody>\n",
       "    <tr>\n",
       "      <th>0</th>\n",
       "      <td>39358</td>\n",
       "      <td>2</td>\n",
       "    </tr>\n",
       "    <tr>\n",
       "      <th>1</th>\n",
       "      <td>39388</td>\n",
       "      <td>6</td>\n",
       "    </tr>\n",
       "    <tr>\n",
       "      <th>2</th>\n",
       "      <td>39400</td>\n",
       "      <td>3</td>\n",
       "    </tr>\n",
       "    <tr>\n",
       "      <th>3</th>\n",
       "      <td>393645</td>\n",
       "      <td>11</td>\n",
       "    </tr>\n",
       "    <tr>\n",
       "      <th>4</th>\n",
       "      <td>393649</td>\n",
       "      <td>7</td>\n",
       "    </tr>\n",
       "    <tr>\n",
       "      <th>...</th>\n",
       "      <td>...</td>\n",
       "      <td>...</td>\n",
       "    </tr>\n",
       "    <tr>\n",
       "      <th>19943</th>\n",
       "      <td>537BD86C-98D8-4B75-B0FE-AB5E1E351957</td>\n",
       "      <td>2</td>\n",
       "    </tr>\n",
       "    <tr>\n",
       "      <th>19944</th>\n",
       "      <td>5382</td>\n",
       "      <td>6</td>\n",
       "    </tr>\n",
       "    <tr>\n",
       "      <th>19945</th>\n",
       "      <td>5387858</td>\n",
       "      <td>1</td>\n",
       "    </tr>\n",
       "    <tr>\n",
       "      <th>19946</th>\n",
       "      <td>539049</td>\n",
       "      <td>6</td>\n",
       "    </tr>\n",
       "    <tr>\n",
       "      <th>19947</th>\n",
       "      <td>5390815-1LR-2021-22</td>\n",
       "      <td>4</td>\n",
       "    </tr>\n",
       "  </tbody>\n",
       "</table>\n",
       "<p>19948 rows × 2 columns</p>\n",
       "</div>"
      ],
      "text/plain": [
       "                                   chart_id  number_of_code1_family_per_chart\n",
       "0                                     39358                                 2\n",
       "1                                     39388                                 6\n",
       "2                                     39400                                 3\n",
       "3                                    393645                                11\n",
       "4                                    393649                                 7\n",
       "...                                     ...                               ...\n",
       "19943  537BD86C-98D8-4B75-B0FE-AB5E1E351957                                 2\n",
       "19944                                  5382                                 6\n",
       "19945                               5387858                                 1\n",
       "19946                                539049                                 6\n",
       "19947                   5390815-1LR-2021-22                                 4\n",
       "\n",
       "[19948 rows x 2 columns]"
      ]
     },
     "execution_count": 63,
     "metadata": {},
     "output_type": "execute_result"
    }
   ],
   "source": [
    "number_of_code1_family_per_chart"
   ]
  },
  {
   "cell_type": "code",
   "execution_count": 64,
   "metadata": {},
   "outputs": [],
   "source": [
    "final = final.merge(number_of_code1_family_per_chart, on = 'chart_id', how='left')"
   ]
  },
  {
   "cell_type": "code",
   "execution_count": 65,
   "metadata": {},
   "outputs": [],
   "source": [
    "final[\"Acute Condition\"] = np.where(final['DX Condition Type'] == \"Acute\",1,0)"
   ]
  },
  {
   "cell_type": "code",
   "execution_count": 66,
   "metadata": {},
   "outputs": [],
   "source": [
    "number_of_acute_conditions_per_chart = pd.DataFrame(final.groupby(\"chart_id\")[\"Acute Condition\"].sum()).reset_index()"
   ]
  },
  {
   "cell_type": "code",
   "execution_count": 67,
   "metadata": {},
   "outputs": [],
   "source": [
    "number_of_acute_conditions_per_chart.columns = [\"chart_id\",\"number_of_acute_conditions_per_chart\"]"
   ]
  },
  {
   "cell_type": "code",
   "execution_count": 68,
   "metadata": {},
   "outputs": [
    {
     "data": {
      "text/html": [
       "<div>\n",
       "<style scoped>\n",
       "    .dataframe tbody tr th:only-of-type {\n",
       "        vertical-align: middle;\n",
       "    }\n",
       "\n",
       "    .dataframe tbody tr th {\n",
       "        vertical-align: top;\n",
       "    }\n",
       "\n",
       "    .dataframe thead th {\n",
       "        text-align: right;\n",
       "    }\n",
       "</style>\n",
       "<table border=\"1\" class=\"dataframe\">\n",
       "  <thead>\n",
       "    <tr style=\"text-align: right;\">\n",
       "      <th></th>\n",
       "      <th>chart_id</th>\n",
       "      <th>number_of_acute_conditions_per_chart</th>\n",
       "    </tr>\n",
       "  </thead>\n",
       "  <tbody>\n",
       "    <tr>\n",
       "      <th>0</th>\n",
       "      <td>39358</td>\n",
       "      <td>0</td>\n",
       "    </tr>\n",
       "    <tr>\n",
       "      <th>1</th>\n",
       "      <td>39388</td>\n",
       "      <td>5</td>\n",
       "    </tr>\n",
       "    <tr>\n",
       "      <th>2</th>\n",
       "      <td>39400</td>\n",
       "      <td>12</td>\n",
       "    </tr>\n",
       "    <tr>\n",
       "      <th>3</th>\n",
       "      <td>393645</td>\n",
       "      <td>22</td>\n",
       "    </tr>\n",
       "    <tr>\n",
       "      <th>4</th>\n",
       "      <td>393649</td>\n",
       "      <td>66</td>\n",
       "    </tr>\n",
       "    <tr>\n",
       "      <th>...</th>\n",
       "      <td>...</td>\n",
       "      <td>...</td>\n",
       "    </tr>\n",
       "    <tr>\n",
       "      <th>19943</th>\n",
       "      <td>537BD86C-98D8-4B75-B0FE-AB5E1E351957</td>\n",
       "      <td>0</td>\n",
       "    </tr>\n",
       "    <tr>\n",
       "      <th>19944</th>\n",
       "      <td>5382</td>\n",
       "      <td>8</td>\n",
       "    </tr>\n",
       "    <tr>\n",
       "      <th>19945</th>\n",
       "      <td>5387858</td>\n",
       "      <td>0</td>\n",
       "    </tr>\n",
       "    <tr>\n",
       "      <th>19946</th>\n",
       "      <td>539049</td>\n",
       "      <td>3</td>\n",
       "    </tr>\n",
       "    <tr>\n",
       "      <th>19947</th>\n",
       "      <td>5390815-1LR-2021-22</td>\n",
       "      <td>31</td>\n",
       "    </tr>\n",
       "  </tbody>\n",
       "</table>\n",
       "<p>19948 rows × 2 columns</p>\n",
       "</div>"
      ],
      "text/plain": [
       "                                   chart_id  \\\n",
       "0                                     39358   \n",
       "1                                     39388   \n",
       "2                                     39400   \n",
       "3                                    393645   \n",
       "4                                    393649   \n",
       "...                                     ...   \n",
       "19943  537BD86C-98D8-4B75-B0FE-AB5E1E351957   \n",
       "19944                                  5382   \n",
       "19945                               5387858   \n",
       "19946                                539049   \n",
       "19947                   5390815-1LR-2021-22   \n",
       "\n",
       "       number_of_acute_conditions_per_chart  \n",
       "0                                         0  \n",
       "1                                         5  \n",
       "2                                        12  \n",
       "3                                        22  \n",
       "4                                        66  \n",
       "...                                     ...  \n",
       "19943                                     0  \n",
       "19944                                     8  \n",
       "19945                                     0  \n",
       "19946                                     3  \n",
       "19947                                    31  \n",
       "\n",
       "[19948 rows x 2 columns]"
      ]
     },
     "execution_count": 68,
     "metadata": {},
     "output_type": "execute_result"
    }
   ],
   "source": [
    "number_of_acute_conditions_per_chart"
   ]
  },
  {
   "cell_type": "code",
   "execution_count": 69,
   "metadata": {},
   "outputs": [],
   "source": [
    "final = final.merge(number_of_acute_conditions_per_chart, on = 'chart_id', how='left')"
   ]
  },
  {
   "cell_type": "code",
   "execution_count": 70,
   "metadata": {},
   "outputs": [],
   "source": [
    "final[\"Chronic Condition\"] = np.where(final['DX Condition Type'] == \"Chronic\",1,0)"
   ]
  },
  {
   "cell_type": "code",
   "execution_count": 71,
   "metadata": {},
   "outputs": [],
   "source": [
    "number_of_chronic_conditions_per_chart = pd.DataFrame(final.groupby(\"chart_id\")[\"Chronic Condition\"].sum()).reset_index()"
   ]
  },
  {
   "cell_type": "code",
   "execution_count": 72,
   "metadata": {},
   "outputs": [],
   "source": [
    "number_of_chronic_conditions_per_chart.columns = [\"chart_id\",\"number_of_chronic_conditions_per_chart\"]"
   ]
  },
  {
   "cell_type": "code",
   "execution_count": 73,
   "metadata": {},
   "outputs": [
    {
     "data": {
      "text/html": [
       "<div>\n",
       "<style scoped>\n",
       "    .dataframe tbody tr th:only-of-type {\n",
       "        vertical-align: middle;\n",
       "    }\n",
       "\n",
       "    .dataframe tbody tr th {\n",
       "        vertical-align: top;\n",
       "    }\n",
       "\n",
       "    .dataframe thead th {\n",
       "        text-align: right;\n",
       "    }\n",
       "</style>\n",
       "<table border=\"1\" class=\"dataframe\">\n",
       "  <thead>\n",
       "    <tr style=\"text-align: right;\">\n",
       "      <th></th>\n",
       "      <th>chart_id</th>\n",
       "      <th>number_of_chronic_conditions_per_chart</th>\n",
       "    </tr>\n",
       "  </thead>\n",
       "  <tbody>\n",
       "    <tr>\n",
       "      <th>0</th>\n",
       "      <td>39358</td>\n",
       "      <td>63</td>\n",
       "    </tr>\n",
       "    <tr>\n",
       "      <th>1</th>\n",
       "      <td>39388</td>\n",
       "      <td>97</td>\n",
       "    </tr>\n",
       "    <tr>\n",
       "      <th>2</th>\n",
       "      <td>39400</td>\n",
       "      <td>4</td>\n",
       "    </tr>\n",
       "    <tr>\n",
       "      <th>3</th>\n",
       "      <td>393645</td>\n",
       "      <td>162</td>\n",
       "    </tr>\n",
       "    <tr>\n",
       "      <th>4</th>\n",
       "      <td>393649</td>\n",
       "      <td>125</td>\n",
       "    </tr>\n",
       "    <tr>\n",
       "      <th>...</th>\n",
       "      <td>...</td>\n",
       "      <td>...</td>\n",
       "    </tr>\n",
       "    <tr>\n",
       "      <th>19943</th>\n",
       "      <td>537BD86C-98D8-4B75-B0FE-AB5E1E351957</td>\n",
       "      <td>4</td>\n",
       "    </tr>\n",
       "    <tr>\n",
       "      <th>19944</th>\n",
       "      <td>5382</td>\n",
       "      <td>10</td>\n",
       "    </tr>\n",
       "    <tr>\n",
       "      <th>19945</th>\n",
       "      <td>5387858</td>\n",
       "      <td>4</td>\n",
       "    </tr>\n",
       "    <tr>\n",
       "      <th>19946</th>\n",
       "      <td>539049</td>\n",
       "      <td>18</td>\n",
       "    </tr>\n",
       "    <tr>\n",
       "      <th>19947</th>\n",
       "      <td>5390815-1LR-2021-22</td>\n",
       "      <td>32</td>\n",
       "    </tr>\n",
       "  </tbody>\n",
       "</table>\n",
       "<p>19948 rows × 2 columns</p>\n",
       "</div>"
      ],
      "text/plain": [
       "                                   chart_id  \\\n",
       "0                                     39358   \n",
       "1                                     39388   \n",
       "2                                     39400   \n",
       "3                                    393645   \n",
       "4                                    393649   \n",
       "...                                     ...   \n",
       "19943  537BD86C-98D8-4B75-B0FE-AB5E1E351957   \n",
       "19944                                  5382   \n",
       "19945                               5387858   \n",
       "19946                                539049   \n",
       "19947                   5390815-1LR-2021-22   \n",
       "\n",
       "       number_of_chronic_conditions_per_chart  \n",
       "0                                          63  \n",
       "1                                          97  \n",
       "2                                           4  \n",
       "3                                         162  \n",
       "4                                         125  \n",
       "...                                       ...  \n",
       "19943                                       4  \n",
       "19944                                      10  \n",
       "19945                                       4  \n",
       "19946                                      18  \n",
       "19947                                      32  \n",
       "\n",
       "[19948 rows x 2 columns]"
      ]
     },
     "execution_count": 73,
     "metadata": {},
     "output_type": "execute_result"
    }
   ],
   "source": [
    "number_of_chronic_conditions_per_chart"
   ]
  },
  {
   "cell_type": "code",
   "execution_count": 74,
   "metadata": {},
   "outputs": [],
   "source": [
    "final = final.merge(number_of_chronic_conditions_per_chart, on = 'chart_id', how='left')"
   ]
  },
  {
   "cell_type": "markdown",
   "metadata": {},
   "source": [
    "#### Features realted to DOS created from dos_start"
   ]
  },
  {
   "cell_type": "code",
   "execution_count": 75,
   "metadata": {},
   "outputs": [],
   "source": [
    "final['dos_start_year'] = pd.DatetimeIndex(final['dos_start']).year"
   ]
  },
  {
   "cell_type": "code",
   "execution_count": 76,
   "metadata": {},
   "outputs": [],
   "source": [
    "final['dos_start'] = pd.to_datetime(final['dos_start'])"
   ]
  },
  {
   "cell_type": "code",
   "execution_count": 77,
   "metadata": {},
   "outputs": [],
   "source": [
    "final['dos_start_quarter'] = pd.PeriodIndex(final['dos_start'], freq='Q')"
   ]
  },
  {
   "cell_type": "code",
   "execution_count": 78,
   "metadata": {},
   "outputs": [],
   "source": [
    "number_of_unique_dos_per_chart = pd.DataFrame(final.groupby(\"chart_id\").dos_start.nunique()).reset_index()"
   ]
  },
  {
   "cell_type": "code",
   "execution_count": 79,
   "metadata": {},
   "outputs": [],
   "source": [
    "number_of_unique_dos_per_chart.columns = [\"chart_id\",\"number_of_unique_dos_start_per_chart\"]"
   ]
  },
  {
   "cell_type": "code",
   "execution_count": 80,
   "metadata": {},
   "outputs": [
    {
     "data": {
      "text/html": [
       "<div>\n",
       "<style scoped>\n",
       "    .dataframe tbody tr th:only-of-type {\n",
       "        vertical-align: middle;\n",
       "    }\n",
       "\n",
       "    .dataframe tbody tr th {\n",
       "        vertical-align: top;\n",
       "    }\n",
       "\n",
       "    .dataframe thead th {\n",
       "        text-align: right;\n",
       "    }\n",
       "</style>\n",
       "<table border=\"1\" class=\"dataframe\">\n",
       "  <thead>\n",
       "    <tr style=\"text-align: right;\">\n",
       "      <th></th>\n",
       "      <th>chart_id</th>\n",
       "      <th>number_of_unique_dos_start_per_chart</th>\n",
       "    </tr>\n",
       "  </thead>\n",
       "  <tbody>\n",
       "    <tr>\n",
       "      <th>0</th>\n",
       "      <td>39358</td>\n",
       "      <td>21</td>\n",
       "    </tr>\n",
       "    <tr>\n",
       "      <th>1</th>\n",
       "      <td>39388</td>\n",
       "      <td>5</td>\n",
       "    </tr>\n",
       "    <tr>\n",
       "      <th>2</th>\n",
       "      <td>39400</td>\n",
       "      <td>1</td>\n",
       "    </tr>\n",
       "    <tr>\n",
       "      <th>3</th>\n",
       "      <td>393645</td>\n",
       "      <td>5</td>\n",
       "    </tr>\n",
       "    <tr>\n",
       "      <th>4</th>\n",
       "      <td>393649</td>\n",
       "      <td>4</td>\n",
       "    </tr>\n",
       "    <tr>\n",
       "      <th>...</th>\n",
       "      <td>...</td>\n",
       "      <td>...</td>\n",
       "    </tr>\n",
       "    <tr>\n",
       "      <th>19943</th>\n",
       "      <td>537BD86C-98D8-4B75-B0FE-AB5E1E351957</td>\n",
       "      <td>1</td>\n",
       "    </tr>\n",
       "    <tr>\n",
       "      <th>19944</th>\n",
       "      <td>5382</td>\n",
       "      <td>3</td>\n",
       "    </tr>\n",
       "    <tr>\n",
       "      <th>19945</th>\n",
       "      <td>5387858</td>\n",
       "      <td>1</td>\n",
       "    </tr>\n",
       "    <tr>\n",
       "      <th>19946</th>\n",
       "      <td>539049</td>\n",
       "      <td>10</td>\n",
       "    </tr>\n",
       "    <tr>\n",
       "      <th>19947</th>\n",
       "      <td>5390815-1LR-2021-22</td>\n",
       "      <td>5</td>\n",
       "    </tr>\n",
       "  </tbody>\n",
       "</table>\n",
       "<p>19948 rows × 2 columns</p>\n",
       "</div>"
      ],
      "text/plain": [
       "                                   chart_id  \\\n",
       "0                                     39358   \n",
       "1                                     39388   \n",
       "2                                     39400   \n",
       "3                                    393645   \n",
       "4                                    393649   \n",
       "...                                     ...   \n",
       "19943  537BD86C-98D8-4B75-B0FE-AB5E1E351957   \n",
       "19944                                  5382   \n",
       "19945                               5387858   \n",
       "19946                                539049   \n",
       "19947                   5390815-1LR-2021-22   \n",
       "\n",
       "       number_of_unique_dos_start_per_chart  \n",
       "0                                        21  \n",
       "1                                         5  \n",
       "2                                         1  \n",
       "3                                         5  \n",
       "4                                         4  \n",
       "...                                     ...  \n",
       "19943                                     1  \n",
       "19944                                     3  \n",
       "19945                                     1  \n",
       "19946                                    10  \n",
       "19947                                     5  \n",
       "\n",
       "[19948 rows x 2 columns]"
      ]
     },
     "execution_count": 80,
     "metadata": {},
     "output_type": "execute_result"
    }
   ],
   "source": [
    "number_of_unique_dos_per_chart"
   ]
  },
  {
   "cell_type": "code",
   "execution_count": 81,
   "metadata": {},
   "outputs": [],
   "source": [
    "final = final.merge(number_of_unique_dos_per_chart, on = 'chart_id', how='left')"
   ]
  },
  {
   "cell_type": "markdown",
   "metadata": {},
   "source": [
    "#### Dx occured in different years"
   ]
  },
  {
   "cell_type": "code",
   "execution_count": 82,
   "metadata": {},
   "outputs": [],
   "source": [
    "dos_in_different_year = pd.DataFrame(final.groupby(['chart_id','code1']).dos_start_year.nunique().reset_index())"
   ]
  },
  {
   "cell_type": "code",
   "execution_count": 83,
   "metadata": {},
   "outputs": [],
   "source": [
    "dos_in_different_year.columns = ['chart_id','code1','dos_count_of_different_year_per_chart_and_code1']"
   ]
  },
  {
   "cell_type": "code",
   "execution_count": 84,
   "metadata": {},
   "outputs": [],
   "source": [
    "final = final.merge(dos_in_different_year, on = ['chart_id','code1'], how='left')"
   ]
  },
  {
   "cell_type": "code",
   "execution_count": 85,
   "metadata": {},
   "outputs": [],
   "source": [
    "final[\"dos_in_different_year_per_chart_per_dx\"] = np.where(final[\"dos_count_of_different_year_per_chart_and_code1\"] >1,1,0)"
   ]
  },
  {
   "cell_type": "markdown",
   "metadata": {},
   "source": [
    "#### Dx occured in different quarters"
   ]
  },
  {
   "cell_type": "code",
   "execution_count": 86,
   "metadata": {},
   "outputs": [],
   "source": [
    "dos_in_different_quarter = pd.DataFrame(final.groupby(['chart_id','code1']).dos_start_quarter.nunique().reset_index())"
   ]
  },
  {
   "cell_type": "code",
   "execution_count": 87,
   "metadata": {},
   "outputs": [],
   "source": [
    "dos_in_different_quarter.columns = ['chart_id','code1','dos_count_of_different_quarter_per_chart_and_code1']"
   ]
  },
  {
   "cell_type": "code",
   "execution_count": 88,
   "metadata": {},
   "outputs": [],
   "source": [
    "final = final.merge(dos_in_different_quarter, on = ['chart_id','code1'], how='left')"
   ]
  },
  {
   "cell_type": "code",
   "execution_count": 89,
   "metadata": {},
   "outputs": [],
   "source": [
    "final[\"dos_in_different_quarter_per_chart_per_dx\"] = np.where(final[\"dos_count_of_different_quarter_per_chart_and_code1\"] >1,1,0)"
   ]
  },
  {
   "cell_type": "code",
   "execution_count": 90,
   "metadata": {},
   "outputs": [],
   "source": [
    "percentage_of_autocodable_codes_per_chart = pd.DataFrame(round(final.groupby(\"chart_id\").output.sum()/final.groupby(\"chart_id\").output.count(),2).reset_index())"
   ]
  },
  {
   "cell_type": "code",
   "execution_count": 91,
   "metadata": {},
   "outputs": [],
   "source": [
    "percentage_of_autocodable_codes_per_chart.columns = ['chart_id','percentage_of_autocodable_codes_per_chart']"
   ]
  },
  {
   "cell_type": "code",
   "execution_count": 92,
   "metadata": {},
   "outputs": [
    {
     "data": {
      "text/html": [
       "<div>\n",
       "<style scoped>\n",
       "    .dataframe tbody tr th:only-of-type {\n",
       "        vertical-align: middle;\n",
       "    }\n",
       "\n",
       "    .dataframe tbody tr th {\n",
       "        vertical-align: top;\n",
       "    }\n",
       "\n",
       "    .dataframe thead th {\n",
       "        text-align: right;\n",
       "    }\n",
       "</style>\n",
       "<table border=\"1\" class=\"dataframe\">\n",
       "  <thead>\n",
       "    <tr style=\"text-align: right;\">\n",
       "      <th></th>\n",
       "      <th>chart_id</th>\n",
       "      <th>percentage_of_autocodable_codes_per_chart</th>\n",
       "    </tr>\n",
       "  </thead>\n",
       "  <tbody>\n",
       "    <tr>\n",
       "      <th>0</th>\n",
       "      <td>39358</td>\n",
       "      <td>0.91</td>\n",
       "    </tr>\n",
       "    <tr>\n",
       "      <th>1</th>\n",
       "      <td>39388</td>\n",
       "      <td>0.49</td>\n",
       "    </tr>\n",
       "    <tr>\n",
       "      <th>2</th>\n",
       "      <td>39400</td>\n",
       "      <td>0.75</td>\n",
       "    </tr>\n",
       "    <tr>\n",
       "      <th>3</th>\n",
       "      <td>393645</td>\n",
       "      <td>0.80</td>\n",
       "    </tr>\n",
       "    <tr>\n",
       "      <th>4</th>\n",
       "      <td>393649</td>\n",
       "      <td>0.72</td>\n",
       "    </tr>\n",
       "    <tr>\n",
       "      <th>...</th>\n",
       "      <td>...</td>\n",
       "      <td>...</td>\n",
       "    </tr>\n",
       "    <tr>\n",
       "      <th>19943</th>\n",
       "      <td>537BD86C-98D8-4B75-B0FE-AB5E1E351957</td>\n",
       "      <td>0.50</td>\n",
       "    </tr>\n",
       "    <tr>\n",
       "      <th>19944</th>\n",
       "      <td>5382</td>\n",
       "      <td>0.44</td>\n",
       "    </tr>\n",
       "    <tr>\n",
       "      <th>19945</th>\n",
       "      <td>5387858</td>\n",
       "      <td>1.00</td>\n",
       "    </tr>\n",
       "    <tr>\n",
       "      <th>19946</th>\n",
       "      <td>539049</td>\n",
       "      <td>0.78</td>\n",
       "    </tr>\n",
       "    <tr>\n",
       "      <th>19947</th>\n",
       "      <td>5390815-1LR-2021-22</td>\n",
       "      <td>0.72</td>\n",
       "    </tr>\n",
       "  </tbody>\n",
       "</table>\n",
       "<p>19948 rows × 2 columns</p>\n",
       "</div>"
      ],
      "text/plain": [
       "                                   chart_id  \\\n",
       "0                                     39358   \n",
       "1                                     39388   \n",
       "2                                     39400   \n",
       "3                                    393645   \n",
       "4                                    393649   \n",
       "...                                     ...   \n",
       "19943  537BD86C-98D8-4B75-B0FE-AB5E1E351957   \n",
       "19944                                  5382   \n",
       "19945                               5387858   \n",
       "19946                                539049   \n",
       "19947                   5390815-1LR-2021-22   \n",
       "\n",
       "       percentage_of_autocodable_codes_per_chart  \n",
       "0                                           0.91  \n",
       "1                                           0.49  \n",
       "2                                           0.75  \n",
       "3                                           0.80  \n",
       "4                                           0.72  \n",
       "...                                          ...  \n",
       "19943                                       0.50  \n",
       "19944                                       0.44  \n",
       "19945                                       1.00  \n",
       "19946                                       0.78  \n",
       "19947                                       0.72  \n",
       "\n",
       "[19948 rows x 2 columns]"
      ]
     },
     "execution_count": 92,
     "metadata": {},
     "output_type": "execute_result"
    }
   ],
   "source": [
    "percentage_of_autocodable_codes_per_chart"
   ]
  },
  {
   "cell_type": "code",
   "execution_count": 93,
   "metadata": {},
   "outputs": [],
   "source": [
    "final = final.merge(percentage_of_autocodable_codes_per_chart, on = 'chart_id', how='left')"
   ]
  },
  {
   "cell_type": "code",
   "execution_count": 104,
   "metadata": {},
   "outputs": [],
   "source": [
    "#final.to_csv(\"19thFeb2022_100k_120k_data_merged_with_sf_and_new_features_v2.csv\")"
   ]
  },
  {
   "cell_type": "code",
   "execution_count": 1,
   "metadata": {},
   "outputs": [],
   "source": [
    "import os"
   ]
  },
  {
   "cell_type": "code",
   "execution_count": 5,
   "metadata": {},
   "outputs": [],
   "source": [
    "os.remove(\"CIOX_RAHIX_IC20190521142219_591M7914320_124850035.json\")"
   ]
  },
  {
   "cell_type": "code",
   "execution_count": null,
   "metadata": {},
   "outputs": [],
   "source": []
  },
  {
   "cell_type": "code",
   "execution_count": null,
   "metadata": {},
   "outputs": [],
   "source": []
  },
  {
   "cell_type": "code",
   "execution_count": null,
   "metadata": {},
   "outputs": [],
   "source": []
  },
  {
   "cell_type": "code",
   "execution_count": null,
   "metadata": {},
   "outputs": [],
   "source": []
  },
  {
   "cell_type": "code",
   "execution_count": null,
   "metadata": {},
   "outputs": [],
   "source": []
  },
  {
   "cell_type": "code",
   "execution_count": null,
   "metadata": {},
   "outputs": [],
   "source": []
  },
  {
   "cell_type": "code",
   "execution_count": null,
   "metadata": {},
   "outputs": [],
   "source": []
  },
  {
   "cell_type": "code",
   "execution_count": null,
   "metadata": {},
   "outputs": [],
   "source": []
  },
  {
   "cell_type": "code",
   "execution_count": null,
   "metadata": {},
   "outputs": [],
   "source": []
  },
  {
   "cell_type": "code",
   "execution_count": null,
   "metadata": {},
   "outputs": [],
   "source": []
  },
  {
   "cell_type": "code",
   "execution_count": null,
   "metadata": {},
   "outputs": [],
   "source": []
  },
  {
   "cell_type": "code",
   "execution_count": null,
   "metadata": {},
   "outputs": [],
   "source": []
  },
  {
   "cell_type": "code",
   "execution_count": null,
   "metadata": {},
   "outputs": [],
   "source": []
  },
  {
   "cell_type": "code",
   "execution_count": null,
   "metadata": {},
   "outputs": [],
   "source": []
  },
  {
   "cell_type": "code",
   "execution_count": null,
   "metadata": {},
   "outputs": [],
   "source": []
  },
  {
   "cell_type": "code",
   "execution_count": null,
   "metadata": {},
   "outputs": [],
   "source": []
  },
  {
   "cell_type": "code",
   "execution_count": null,
   "metadata": {},
   "outputs": [],
   "source": []
  },
  {
   "cell_type": "code",
   "execution_count": null,
   "metadata": {},
   "outputs": [],
   "source": []
  },
  {
   "cell_type": "code",
   "execution_count": null,
   "metadata": {},
   "outputs": [],
   "source": []
  },
  {
   "cell_type": "code",
   "execution_count": null,
   "metadata": {},
   "outputs": [],
   "source": []
  },
  {
   "cell_type": "code",
   "execution_count": null,
   "metadata": {},
   "outputs": [],
   "source": []
  },
  {
   "cell_type": "code",
   "execution_count": null,
   "metadata": {},
   "outputs": [],
   "source": []
  },
  {
   "cell_type": "code",
   "execution_count": null,
   "metadata": {},
   "outputs": [],
   "source": []
  },
  {
   "cell_type": "code",
   "execution_count": null,
   "metadata": {},
   "outputs": [],
   "source": []
  }
 ],
 "metadata": {
  "kernelspec": {
   "display_name": "Python 3",
   "language": "python",
   "name": "python3"
  },
  "language_info": {
   "codemirror_mode": {
    "name": "ipython",
    "version": 3
   },
   "file_extension": ".py",
   "mimetype": "text/x-python",
   "name": "python",
   "nbconvert_exporter": "python",
   "pygments_lexer": "ipython3",
   "version": "3.8.5"
  }
 },
 "nbformat": 4,
 "nbformat_minor": 4
}
