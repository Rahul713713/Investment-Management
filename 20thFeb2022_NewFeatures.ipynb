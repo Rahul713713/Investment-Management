{
 "cells": [
  {
   "cell_type": "markdown",
   "metadata": {},
   "source": [
    "## Importing all the libraries"
   ]
  },
  {
   "cell_type": "code",
   "execution_count": 1,
   "metadata": {},
   "outputs": [],
   "source": [
    "#Importing the libraries\n",
    "import json\n",
    "import pandas as pd\n",
    "import numpy as np\n",
    "import matplotlib.pyplot as plt\n",
    "import seaborn as sns\n",
    "import warnings\n",
    "warnings.filterwarnings(\"ignore\")"
   ]
  },
  {
   "cell_type": "code",
   "execution_count": 2,
   "metadata": {},
   "outputs": [],
   "source": [
    "final = pd.read_csv(\"16thFeb2022_100k_120k_data_merged_with_sf_v2.csv\")"
   ]
  },
  {
   "cell_type": "code",
   "execution_count": 3,
   "metadata": {},
   "outputs": [],
   "source": [
    "final.drop(columns =['Unnamed: 0','code','l1_finish_time','l1_pc','DXCAT3',\n",
    "                    'query_source','telehealth_encounter',\n",
    "                    'DX Category','DX Context'],axis = 1,inplace = True)"
   ]
  },
  {
   "cell_type": "code",
   "execution_count": 4,
   "metadata": {},
   "outputs": [
    {
     "data": {
      "text/plain": [
       "(2088529, 40)"
      ]
     },
     "execution_count": 4,
     "metadata": {},
     "output_type": "execute_result"
    }
   ],
   "source": [
    "final.shape"
   ]
  },
  {
   "cell_type": "code",
   "execution_count": 5,
   "metadata": {},
   "outputs": [],
   "source": [
    "for column in final:\n",
    "    if final[column].dtype == 'float64':\n",
    "        final[column] = pd.to_numeric(final[column], downcast = 'float')\n",
    "    if final[column].dtype == 'int64':\n",
    "        final[column] = pd.to_numeric(final[column], downcast = 'unsigned')"
   ]
  },
  {
   "cell_type": "code",
   "execution_count": 6,
   "metadata": {},
   "outputs": [
    {
     "data": {
      "text/plain": [
       "Index(['code1', 'final_codes', 'DX Codetype', 'DX Condition Type', 'enc_id',\n",
       "       'meat', 'text', 'page', 'section', 'NLP_VERSION',\n",
       "       'parent_rxcui_mapping', 'final_code_family', 'dos_start', 'dos_end',\n",
       "       'enc_class', 'unique_codes', 'code_count', 'npi.type', 'chart_id',\n",
       "       'medicine_count', 'labtest_count',\n",
       "       'embedded radiology/lab results_count', 'devices_count',\n",
       "       'abnormal findings_count', 'generic term_count', 'plan_count',\n",
       "       'procedure_count', 'radiology_count', 'labs_count', 'rx_count',\n",
       "       'referral_count', 'symptoms_count', 'therapy_count', 'procedures_count',\n",
       "       'others_count', 'physical_exam_count', 'evaluatory_term_count',\n",
       "       'imaging_count', 'project_id', 'output'],\n",
       "      dtype='object')"
      ]
     },
     "execution_count": 6,
     "metadata": {},
     "output_type": "execute_result"
    }
   ],
   "source": [
    "final.columns"
   ]
  },
  {
   "cell_type": "code",
   "execution_count": 7,
   "metadata": {},
   "outputs": [
    {
     "data": {
      "text/plain": [
       "(209, 40)"
      ]
     },
     "execution_count": 7,
     "metadata": {},
     "output_type": "execute_result"
    }
   ],
   "source": [
    "final[final['dos_start'].isna()].shape"
   ]
  },
  {
   "cell_type": "code",
   "execution_count": 8,
   "metadata": {},
   "outputs": [],
   "source": [
    "final.dropna(axis=0, subset=['dos_start','dos_end'],inplace = True)"
   ]
  },
  {
   "cell_type": "code",
   "execution_count": 9,
   "metadata": {},
   "outputs": [],
   "source": [
    "for column in final:\n",
    "    if final[column].dtype == 'float64':\n",
    "        final[column] = pd.to_numeric(final[column], downcast = 'float')\n",
    "    if final[column].dtype == 'int64':\n",
    "        final[column] = pd.to_numeric(final[column], downcast = 'unsigned')"
   ]
  },
  {
   "cell_type": "markdown",
   "metadata": {},
   "source": [
    "## Creating New Features"
   ]
  },
  {
   "cell_type": "markdown",
   "metadata": {},
   "source": [
    "#### Features related to meat"
   ]
  },
  {
   "cell_type": "code",
   "execution_count": 10,
   "metadata": {},
   "outputs": [
    {
     "data": {
      "text/plain": [
       "[]                                                                                                                                                                                                                                                                                                                                                                                                                                                                                                                                                                                                                                                                                                                                                                                                                                                                                                                                                                                                                                                                         515582\n",
       "['49-11', '49-2217', '50-490', '51-1209', '51-1486', '52-2107', '53-28', '54-1209', '54-1486', '60-768', '60-1477', '62-309', '62-586', '63-1379', '63-2088', '65-1194', '65-1471', '67-231', '67-940', '68-1895', '70-2434', '70-3143', '72-1116', '80-2551', '80-3260', '82-1026']                                                                                                                                                                                                                                                                                                                                                                                                                                                                                                                                                                                                                                                                                                                                                                                          208\n",
       "['589-1562', '589-1672', '590-746', '590-825', '590-1342', '590-1408', '590-1458', '590-1510', '590-1751', '590-1812', '590-3679', '590-3734', '590-3789', '591-740', '591-791', '591-890', '591-1450', '591-1511', '591-1566', '591-2229', '592-425', '592-505', '592-626', '592-1849', '592-1923', '592-1953', '592-2043', '593-2121', '595-681', '595-693', '595-1272', '595-1285', '595-1472', '595-1487', '596-684', '596-696', '596-804', '597-2541', '597-2639', '597-2714', '597-2858', '597-2873', '598-790', '598-1700', '598-1774', '598-1847', '598-1938', '598-2001', '598-2079', '602-538', '602-1406', '602-1452', '602-1504', '605-257', '605-322', '609-582', '609-597', '609-709', '609-722', '609-881', '609-896', '609-928', '609-941', '610-612', '610-624', '610-1198', '610-1211', '610-1450', '610-1465', '610-2279', '610-2291', '611-228', '613-251', '613-263', '613-1585', '613-1598', '614-395', '614-410', '615-911', '615-923', '615-1177', '616-703', '616-715', '616-1297', '616-1310', '616-1500', '616-1515', '616-2378', '617-149']       160\n",
       "['327-2047', '327-2077', '327-2123', '327-2149', '328-401', '328-452', '328-505', '328-3011', '328-3799', '329-507', '329-733', '329-788', '329-1149', '329-1198', '329-1232', '329-1327', '329-1463', '329-1583', '329-1708', '329-1750', '329-1902', '329-1958', '329-2159', '329-2230', '329-2319', '330-469', '330-495', '330-525', '330-571', '333-472', '333-484', '333-1090', '333-1103', '333-1332', '334-804', '334-816', '334-936', '335-1261', '335-1297', '335-1335', '337-632', '338-684', '338-714', '338-760', '338-789', '342-1624', '342-1688', '347-245', '347-258', '347-518', '347-531', '347-1686', '347-1698', '347-1960', '347-1973', '348-228', '348-243', '348-1175', '348-1187', '348-1311', '350-807', '350-819', '351-492', '351-505', '351-1039', '351-1054', '352-1536', '352-1548', '353-172', '353-1628', '353-1640', '353-2249', '353-2262', '354-149', '354-164', '354-1074', '354-1086', '354-1210']                                                                                                                                       160\n",
       "['93-867', '93-2142', '94-1569', '95-1182', '96-1579', '96-2280', '97-905', '97-2371', '98-184', '98-889', '99-240', '99-1642', '99-2772', '100-1811', '100-2229', '101-914', '101-2359', '102-761', '102-2687', '104-1143', '104-2146', '105-896', '105-1633', '106-353', '106-1778', '106-2227', '107-331', '107-345', '107-480', '107-1504', '125-457', '125-475', '125-716', '125-734', '125-909', '125-927', '125-1314', '125-1332', '126-15', '126-33', '127-139', '127-157', '127-332', '127-350', '127-525', '127-543', '127-741', '127-759', '127-972', '127-990', '127-1165', '127-1183', '128-81', '128-99', '128-435', '128-505', '128-523', '128-776', '128-794', '128-876', '128-1039', '128-1057', '128-1267', '128-1337', '128-1355', '128-1437', '128-1453', '134-2668', '135-271', '135-384', '136-171', '136-637', '136-652', '136-691']                                                                                                                                                                                                                   148\n",
       "Name: meat, dtype: int64"
      ]
     },
     "execution_count": 10,
     "metadata": {},
     "output_type": "execute_result"
    }
   ],
   "source": [
    "final.meat.value_counts().head()"
   ]
  },
  {
   "cell_type": "code",
   "execution_count": 11,
   "metadata": {},
   "outputs": [],
   "source": [
    "final[\"Has MEAT\"] = np.where(final[\"meat\"] != \"[]\",1,0)"
   ]
  },
  {
   "cell_type": "code",
   "execution_count": 12,
   "metadata": {},
   "outputs": [
    {
     "data": {
      "text/plain": [
       "1    1572738\n",
       "0     515582\n",
       "Name: Has MEAT, dtype: int64"
      ]
     },
     "execution_count": 12,
     "metadata": {},
     "output_type": "execute_result"
    }
   ],
   "source": [
    "final[\"Has MEAT\"].value_counts()"
   ]
  },
  {
   "cell_type": "code",
   "execution_count": 13,
   "metadata": {},
   "outputs": [
    {
     "data": {
      "text/plain": [
       "Index(['code1', 'final_codes', 'DX Codetype', 'DX Condition Type', 'enc_id',\n",
       "       'meat', 'text', 'page', 'section', 'NLP_VERSION',\n",
       "       'parent_rxcui_mapping', 'final_code_family', 'dos_start', 'dos_end',\n",
       "       'enc_class', 'unique_codes', 'code_count', 'npi.type', 'chart_id',\n",
       "       'medicine_count', 'labtest_count',\n",
       "       'embedded radiology/lab results_count', 'devices_count',\n",
       "       'abnormal findings_count', 'generic term_count', 'plan_count',\n",
       "       'procedure_count', 'radiology_count', 'labs_count', 'rx_count',\n",
       "       'referral_count', 'symptoms_count', 'therapy_count', 'procedures_count',\n",
       "       'others_count', 'physical_exam_count', 'evaluatory_term_count',\n",
       "       'imaging_count', 'project_id', 'output', 'Has MEAT'],\n",
       "      dtype='object')"
      ]
     },
     "execution_count": 13,
     "metadata": {},
     "output_type": "execute_result"
    }
   ],
   "source": [
    "final.columns"
   ]
  },
  {
   "cell_type": "code",
   "execution_count": 14,
   "metadata": {},
   "outputs": [
    {
     "data": {
      "text/plain": [
       "0      947306\n",
       "1      151846\n",
       "2      149066\n",
       "3      120085\n",
       "4      112248\n",
       "        ...  \n",
       "128         1\n",
       "260         1\n",
       "265         1\n",
       "208         1\n",
       "194         1\n",
       "Name: rx_count, Length: 192, dtype: int64"
      ]
     },
     "execution_count": 14,
     "metadata": {},
     "output_type": "execute_result"
    }
   ],
   "source": [
    "final[\"rx_count\"].value_counts()"
   ]
  },
  {
   "cell_type": "code",
   "execution_count": 15,
   "metadata": {},
   "outputs": [],
   "source": [
    "final[\"Has RX MEAT\"] = np.where((final[\"rx_count\"] != 0) | (final[\"medicine_count\"] != 0),1,0)"
   ]
  },
  {
   "cell_type": "code",
   "execution_count": 16,
   "metadata": {},
   "outputs": [
    {
     "data": {
      "text/plain": [
       "1    1366083\n",
       "0     722237\n",
       "Name: Has RX MEAT, dtype: int64"
      ]
     },
     "execution_count": 16,
     "metadata": {},
     "output_type": "execute_result"
    }
   ],
   "source": [
    "final[\"Has RX MEAT\"].value_counts()"
   ]
  },
  {
   "cell_type": "code",
   "execution_count": 17,
   "metadata": {},
   "outputs": [],
   "source": [
    "final[\"Has Procedure MEAT\"] = np.where((final[\"procedure_count\"] != 0) | (final[\"procedures_count\"] != 0) ,1,0)"
   ]
  },
  {
   "cell_type": "code",
   "execution_count": 18,
   "metadata": {},
   "outputs": [],
   "source": [
    "final[\"Has Labs MEAT\"] = np.where((final[\"labs_count\"] != 0) | (final[\"labtest_count\"] != 0),1,0)"
   ]
  },
  {
   "cell_type": "code",
   "execution_count": 19,
   "metadata": {},
   "outputs": [
    {
     "data": {
      "text/plain": [
       "1    1366083\n",
       "0     722237\n",
       "Name: Has RX MEAT, dtype: int64"
      ]
     },
     "execution_count": 19,
     "metadata": {},
     "output_type": "execute_result"
    }
   ],
   "source": [
    "final[\"Has RX MEAT\"].value_counts()"
   ]
  },
  {
   "cell_type": "code",
   "execution_count": 20,
   "metadata": {},
   "outputs": [
    {
     "data": {
      "text/plain": [
       "0    1359708\n",
       "1     728612\n",
       "Name: Has Labs MEAT, dtype: int64"
      ]
     },
     "execution_count": 20,
     "metadata": {},
     "output_type": "execute_result"
    }
   ],
   "source": [
    "final[\"Has Labs MEAT\"].value_counts()"
   ]
  },
  {
   "cell_type": "markdown",
   "metadata": {},
   "source": [
    "#### Other Features"
   ]
  },
  {
   "cell_type": "code",
   "execution_count": 21,
   "metadata": {},
   "outputs": [],
   "source": [
    "number_of_encounters_per_chart = pd.DataFrame(final.groupby(\"chart_id\").enc_id.nunique()).reset_index()"
   ]
  },
  {
   "cell_type": "code",
   "execution_count": 22,
   "metadata": {},
   "outputs": [],
   "source": [
    "number_of_encounters_per_chart.columns = [\"chart_id\",\"number_of_encounters_per_chart\"]"
   ]
  },
  {
   "cell_type": "code",
   "execution_count": 23,
   "metadata": {},
   "outputs": [
    {
     "data": {
      "text/html": [
       "<div>\n",
       "<style scoped>\n",
       "    .dataframe tbody tr th:only-of-type {\n",
       "        vertical-align: middle;\n",
       "    }\n",
       "\n",
       "    .dataframe tbody tr th {\n",
       "        vertical-align: top;\n",
       "    }\n",
       "\n",
       "    .dataframe thead th {\n",
       "        text-align: right;\n",
       "    }\n",
       "</style>\n",
       "<table border=\"1\" class=\"dataframe\">\n",
       "  <thead>\n",
       "    <tr style=\"text-align: right;\">\n",
       "      <th></th>\n",
       "      <th>chart_id</th>\n",
       "      <th>number_of_encounters_per_chart</th>\n",
       "    </tr>\n",
       "  </thead>\n",
       "  <tbody>\n",
       "    <tr>\n",
       "      <th>0</th>\n",
       "      <td>39358</td>\n",
       "      <td>21</td>\n",
       "    </tr>\n",
       "    <tr>\n",
       "      <th>1</th>\n",
       "      <td>39388</td>\n",
       "      <td>5</td>\n",
       "    </tr>\n",
       "    <tr>\n",
       "      <th>2</th>\n",
       "      <td>39400</td>\n",
       "      <td>2</td>\n",
       "    </tr>\n",
       "    <tr>\n",
       "      <th>3</th>\n",
       "      <td>393645</td>\n",
       "      <td>5</td>\n",
       "    </tr>\n",
       "    <tr>\n",
       "      <th>4</th>\n",
       "      <td>393649</td>\n",
       "      <td>4</td>\n",
       "    </tr>\n",
       "    <tr>\n",
       "      <th>...</th>\n",
       "      <td>...</td>\n",
       "      <td>...</td>\n",
       "    </tr>\n",
       "    <tr>\n",
       "      <th>19943</th>\n",
       "      <td>537BD86C-98D8-4B75-B0FE-AB5E1E351957</td>\n",
       "      <td>1</td>\n",
       "    </tr>\n",
       "    <tr>\n",
       "      <th>19944</th>\n",
       "      <td>5382</td>\n",
       "      <td>3</td>\n",
       "    </tr>\n",
       "    <tr>\n",
       "      <th>19945</th>\n",
       "      <td>5387858</td>\n",
       "      <td>1</td>\n",
       "    </tr>\n",
       "    <tr>\n",
       "      <th>19946</th>\n",
       "      <td>539049</td>\n",
       "      <td>10</td>\n",
       "    </tr>\n",
       "    <tr>\n",
       "      <th>19947</th>\n",
       "      <td>5390815-1LR-2021-22</td>\n",
       "      <td>5</td>\n",
       "    </tr>\n",
       "  </tbody>\n",
       "</table>\n",
       "<p>19948 rows × 2 columns</p>\n",
       "</div>"
      ],
      "text/plain": [
       "                                   chart_id  number_of_encounters_per_chart\n",
       "0                                     39358                              21\n",
       "1                                     39388                               5\n",
       "2                                     39400                               2\n",
       "3                                    393645                               5\n",
       "4                                    393649                               4\n",
       "...                                     ...                             ...\n",
       "19943  537BD86C-98D8-4B75-B0FE-AB5E1E351957                               1\n",
       "19944                                  5382                               3\n",
       "19945                               5387858                               1\n",
       "19946                                539049                              10\n",
       "19947                   5390815-1LR-2021-22                               5\n",
       "\n",
       "[19948 rows x 2 columns]"
      ]
     },
     "execution_count": 23,
     "metadata": {},
     "output_type": "execute_result"
    }
   ],
   "source": [
    "number_of_encounters_per_chart"
   ]
  },
  {
   "cell_type": "code",
   "execution_count": 24,
   "metadata": {},
   "outputs": [],
   "source": [
    "final = final.merge(number_of_encounters_per_chart, on = 'chart_id', how='left')"
   ]
  },
  {
   "cell_type": "code",
   "execution_count": 25,
   "metadata": {},
   "outputs": [],
   "source": [
    "number_of_codes_per_chart = pd.DataFrame(final.groupby(\"chart_id\").code1.nunique()).reset_index()"
   ]
  },
  {
   "cell_type": "code",
   "execution_count": 26,
   "metadata": {},
   "outputs": [],
   "source": [
    "number_of_codes_per_chart.columns = [\"chart_id\",\"number_of_code1_per_chart\"]"
   ]
  },
  {
   "cell_type": "code",
   "execution_count": 27,
   "metadata": {},
   "outputs": [
    {
     "data": {
      "text/html": [
       "<div>\n",
       "<style scoped>\n",
       "    .dataframe tbody tr th:only-of-type {\n",
       "        vertical-align: middle;\n",
       "    }\n",
       "\n",
       "    .dataframe tbody tr th {\n",
       "        vertical-align: top;\n",
       "    }\n",
       "\n",
       "    .dataframe thead th {\n",
       "        text-align: right;\n",
       "    }\n",
       "</style>\n",
       "<table border=\"1\" class=\"dataframe\">\n",
       "  <thead>\n",
       "    <tr style=\"text-align: right;\">\n",
       "      <th></th>\n",
       "      <th>chart_id</th>\n",
       "      <th>number_of_code1_per_chart</th>\n",
       "    </tr>\n",
       "  </thead>\n",
       "  <tbody>\n",
       "    <tr>\n",
       "      <th>0</th>\n",
       "      <td>39358</td>\n",
       "      <td>2</td>\n",
       "    </tr>\n",
       "    <tr>\n",
       "      <th>1</th>\n",
       "      <td>39388</td>\n",
       "      <td>7</td>\n",
       "    </tr>\n",
       "    <tr>\n",
       "      <th>2</th>\n",
       "      <td>39400</td>\n",
       "      <td>3</td>\n",
       "    </tr>\n",
       "    <tr>\n",
       "      <th>3</th>\n",
       "      <td>393645</td>\n",
       "      <td>14</td>\n",
       "    </tr>\n",
       "    <tr>\n",
       "      <th>4</th>\n",
       "      <td>393649</td>\n",
       "      <td>11</td>\n",
       "    </tr>\n",
       "    <tr>\n",
       "      <th>...</th>\n",
       "      <td>...</td>\n",
       "      <td>...</td>\n",
       "    </tr>\n",
       "    <tr>\n",
       "      <th>19943</th>\n",
       "      <td>537BD86C-98D8-4B75-B0FE-AB5E1E351957</td>\n",
       "      <td>2</td>\n",
       "    </tr>\n",
       "    <tr>\n",
       "      <th>19944</th>\n",
       "      <td>5382</td>\n",
       "      <td>6</td>\n",
       "    </tr>\n",
       "    <tr>\n",
       "      <th>19945</th>\n",
       "      <td>5387858</td>\n",
       "      <td>1</td>\n",
       "    </tr>\n",
       "    <tr>\n",
       "      <th>19946</th>\n",
       "      <td>539049</td>\n",
       "      <td>6</td>\n",
       "    </tr>\n",
       "    <tr>\n",
       "      <th>19947</th>\n",
       "      <td>5390815-1LR-2021-22</td>\n",
       "      <td>8</td>\n",
       "    </tr>\n",
       "  </tbody>\n",
       "</table>\n",
       "<p>19948 rows × 2 columns</p>\n",
       "</div>"
      ],
      "text/plain": [
       "                                   chart_id  number_of_code1_per_chart\n",
       "0                                     39358                          2\n",
       "1                                     39388                          7\n",
       "2                                     39400                          3\n",
       "3                                    393645                         14\n",
       "4                                    393649                         11\n",
       "...                                     ...                        ...\n",
       "19943  537BD86C-98D8-4B75-B0FE-AB5E1E351957                          2\n",
       "19944                                  5382                          6\n",
       "19945                               5387858                          1\n",
       "19946                                539049                          6\n",
       "19947                   5390815-1LR-2021-22                          8\n",
       "\n",
       "[19948 rows x 2 columns]"
      ]
     },
     "execution_count": 27,
     "metadata": {},
     "output_type": "execute_result"
    }
   ],
   "source": [
    "number_of_codes_per_chart"
   ]
  },
  {
   "cell_type": "code",
   "execution_count": 28,
   "metadata": {},
   "outputs": [],
   "source": [
    "final = final.merge(number_of_codes_per_chart, on = 'chart_id', how='left')"
   ]
  },
  {
   "cell_type": "code",
   "execution_count": 29,
   "metadata": {},
   "outputs": [],
   "source": [
    "number_of_occurences_of_code1_per_chart = pd.DataFrame(final.reset_index().groupby([\"chart_id\",\"code1\"]).index.count()).reset_index()"
   ]
  },
  {
   "cell_type": "code",
   "execution_count": 30,
   "metadata": {},
   "outputs": [
    {
     "data": {
      "text/html": [
       "<div>\n",
       "<style scoped>\n",
       "    .dataframe tbody tr th:only-of-type {\n",
       "        vertical-align: middle;\n",
       "    }\n",
       "\n",
       "    .dataframe tbody tr th {\n",
       "        vertical-align: top;\n",
       "    }\n",
       "\n",
       "    .dataframe thead th {\n",
       "        text-align: right;\n",
       "    }\n",
       "</style>\n",
       "<table border=\"1\" class=\"dataframe\">\n",
       "  <thead>\n",
       "    <tr style=\"text-align: right;\">\n",
       "      <th></th>\n",
       "      <th>chart_id</th>\n",
       "      <th>code1</th>\n",
       "      <th>index</th>\n",
       "    </tr>\n",
       "  </thead>\n",
       "  <tbody>\n",
       "    <tr>\n",
       "      <th>0</th>\n",
       "      <td>39358</td>\n",
       "      <td>G809</td>\n",
       "      <td>186</td>\n",
       "    </tr>\n",
       "    <tr>\n",
       "      <th>1</th>\n",
       "      <td>39358</td>\n",
       "      <td>Z684</td>\n",
       "      <td>19</td>\n",
       "    </tr>\n",
       "    <tr>\n",
       "      <th>2</th>\n",
       "      <td>39388</td>\n",
       "      <td>I10</td>\n",
       "      <td>28</td>\n",
       "    </tr>\n",
       "    <tr>\n",
       "      <th>3</th>\n",
       "      <td>39388</td>\n",
       "      <td>I5030</td>\n",
       "      <td>3</td>\n",
       "    </tr>\n",
       "    <tr>\n",
       "      <th>4</th>\n",
       "      <td>39388</td>\n",
       "      <td>I509</td>\n",
       "      <td>56</td>\n",
       "    </tr>\n",
       "    <tr>\n",
       "      <th>5</th>\n",
       "      <td>39388</td>\n",
       "      <td>L98499</td>\n",
       "      <td>5</td>\n",
       "    </tr>\n",
       "    <tr>\n",
       "      <th>6</th>\n",
       "      <td>39388</td>\n",
       "      <td>N189</td>\n",
       "      <td>13</td>\n",
       "    </tr>\n",
       "    <tr>\n",
       "      <th>7</th>\n",
       "      <td>39388</td>\n",
       "      <td>R569</td>\n",
       "      <td>5</td>\n",
       "    </tr>\n",
       "    <tr>\n",
       "      <th>8</th>\n",
       "      <td>39388</td>\n",
       "      <td>Z684</td>\n",
       "      <td>5</td>\n",
       "    </tr>\n",
       "    <tr>\n",
       "      <th>9</th>\n",
       "      <td>39400</td>\n",
       "      <td>E119</td>\n",
       "      <td>2</td>\n",
       "    </tr>\n",
       "  </tbody>\n",
       "</table>\n",
       "</div>"
      ],
      "text/plain": [
       "  chart_id   code1  index\n",
       "0    39358    G809    186\n",
       "1    39358    Z684     19\n",
       "2    39388     I10     28\n",
       "3    39388   I5030      3\n",
       "4    39388    I509     56\n",
       "5    39388  L98499      5\n",
       "6    39388    N189     13\n",
       "7    39388    R569      5\n",
       "8    39388    Z684      5\n",
       "9    39400    E119      2"
      ]
     },
     "execution_count": 30,
     "metadata": {},
     "output_type": "execute_result"
    }
   ],
   "source": [
    "number_of_occurences_of_code1_per_chart.head(10)"
   ]
  },
  {
   "cell_type": "code",
   "execution_count": 31,
   "metadata": {},
   "outputs": [],
   "source": [
    "number_of_occurences_of_code1_per_chart.columns = [\"chart_id\",\"code1\",\"number_of_occurences_of_code1_per_chart\"]"
   ]
  },
  {
   "cell_type": "code",
   "execution_count": 32,
   "metadata": {},
   "outputs": [
    {
     "data": {
      "text/html": [
       "<div>\n",
       "<style scoped>\n",
       "    .dataframe tbody tr th:only-of-type {\n",
       "        vertical-align: middle;\n",
       "    }\n",
       "\n",
       "    .dataframe tbody tr th {\n",
       "        vertical-align: top;\n",
       "    }\n",
       "\n",
       "    .dataframe thead th {\n",
       "        text-align: right;\n",
       "    }\n",
       "</style>\n",
       "<table border=\"1\" class=\"dataframe\">\n",
       "  <thead>\n",
       "    <tr style=\"text-align: right;\">\n",
       "      <th></th>\n",
       "      <th>chart_id</th>\n",
       "      <th>code1</th>\n",
       "      <th>number_of_occurences_of_code1_per_chart</th>\n",
       "    </tr>\n",
       "  </thead>\n",
       "  <tbody>\n",
       "    <tr>\n",
       "      <th>0</th>\n",
       "      <td>39358</td>\n",
       "      <td>G809</td>\n",
       "      <td>186</td>\n",
       "    </tr>\n",
       "    <tr>\n",
       "      <th>1</th>\n",
       "      <td>39358</td>\n",
       "      <td>Z684</td>\n",
       "      <td>19</td>\n",
       "    </tr>\n",
       "    <tr>\n",
       "      <th>2</th>\n",
       "      <td>39388</td>\n",
       "      <td>I10</td>\n",
       "      <td>28</td>\n",
       "    </tr>\n",
       "    <tr>\n",
       "      <th>3</th>\n",
       "      <td>39388</td>\n",
       "      <td>I5030</td>\n",
       "      <td>3</td>\n",
       "    </tr>\n",
       "    <tr>\n",
       "      <th>4</th>\n",
       "      <td>39388</td>\n",
       "      <td>I509</td>\n",
       "      <td>56</td>\n",
       "    </tr>\n",
       "    <tr>\n",
       "      <th>5</th>\n",
       "      <td>39388</td>\n",
       "      <td>L98499</td>\n",
       "      <td>5</td>\n",
       "    </tr>\n",
       "    <tr>\n",
       "      <th>6</th>\n",
       "      <td>39388</td>\n",
       "      <td>N189</td>\n",
       "      <td>13</td>\n",
       "    </tr>\n",
       "    <tr>\n",
       "      <th>7</th>\n",
       "      <td>39388</td>\n",
       "      <td>R569</td>\n",
       "      <td>5</td>\n",
       "    </tr>\n",
       "    <tr>\n",
       "      <th>8</th>\n",
       "      <td>39388</td>\n",
       "      <td>Z684</td>\n",
       "      <td>5</td>\n",
       "    </tr>\n",
       "    <tr>\n",
       "      <th>9</th>\n",
       "      <td>39400</td>\n",
       "      <td>E119</td>\n",
       "      <td>2</td>\n",
       "    </tr>\n",
       "  </tbody>\n",
       "</table>\n",
       "</div>"
      ],
      "text/plain": [
       "  chart_id   code1  number_of_occurences_of_code1_per_chart\n",
       "0    39358    G809                                      186\n",
       "1    39358    Z684                                       19\n",
       "2    39388     I10                                       28\n",
       "3    39388   I5030                                        3\n",
       "4    39388    I509                                       56\n",
       "5    39388  L98499                                        5\n",
       "6    39388    N189                                       13\n",
       "7    39388    R569                                        5\n",
       "8    39388    Z684                                        5\n",
       "9    39400    E119                                        2"
      ]
     },
     "execution_count": 32,
     "metadata": {},
     "output_type": "execute_result"
    }
   ],
   "source": [
    "number_of_occurences_of_code1_per_chart.head(10)"
   ]
  },
  {
   "cell_type": "code",
   "execution_count": 33,
   "metadata": {},
   "outputs": [],
   "source": [
    "final = final.merge(number_of_occurences_of_code1_per_chart, on = ['chart_id','code1'], how='left')"
   ]
  },
  {
   "cell_type": "code",
   "execution_count": 34,
   "metadata": {},
   "outputs": [],
   "source": [
    "final[\"DX incidence per encounter\"] = final[\"number_of_occurences_of_code1_per_chart\"]/final[\"number_of_encounters_per_chart\"]"
   ]
  },
  {
   "cell_type": "code",
   "execution_count": 35,
   "metadata": {},
   "outputs": [
    {
     "data": {
      "text/plain": [
       "0          4.000000\n",
       "1          4.000000\n",
       "2          1.000000\n",
       "3          4.000000\n",
       "4          0.333333\n",
       "             ...   \n",
       "2088315    4.000000\n",
       "2088316    4.000000\n",
       "2088317    3.000000\n",
       "2088318    4.000000\n",
       "2088319    4.000000\n",
       "Name: DX incidence per encounter, Length: 2088320, dtype: float64"
      ]
     },
     "execution_count": 35,
     "metadata": {},
     "output_type": "execute_result"
    }
   ],
   "source": [
    "final[\"DX incidence per encounter\"]"
   ]
  },
  {
   "cell_type": "code",
   "execution_count": 36,
   "metadata": {},
   "outputs": [],
   "source": [
    "number_of_encounters_per_chart_and_code1 = pd.DataFrame(final.groupby([\"chart_id\",\"code1\"]).enc_id.nunique()).reset_index()"
   ]
  },
  {
   "cell_type": "code",
   "execution_count": 37,
   "metadata": {},
   "outputs": [],
   "source": [
    "number_of_encounters_per_chart_and_code1.columns = [\"chart_id\",\"code1\",\"number_of_encounters_per_chart_and_code1\"]"
   ]
  },
  {
   "cell_type": "code",
   "execution_count": 38,
   "metadata": {},
   "outputs": [
    {
     "data": {
      "text/html": [
       "<div>\n",
       "<style scoped>\n",
       "    .dataframe tbody tr th:only-of-type {\n",
       "        vertical-align: middle;\n",
       "    }\n",
       "\n",
       "    .dataframe tbody tr th {\n",
       "        vertical-align: top;\n",
       "    }\n",
       "\n",
       "    .dataframe thead th {\n",
       "        text-align: right;\n",
       "    }\n",
       "</style>\n",
       "<table border=\"1\" class=\"dataframe\">\n",
       "  <thead>\n",
       "    <tr style=\"text-align: right;\">\n",
       "      <th></th>\n",
       "      <th>chart_id</th>\n",
       "      <th>code1</th>\n",
       "      <th>number_of_encounters_per_chart_and_code1</th>\n",
       "    </tr>\n",
       "  </thead>\n",
       "  <tbody>\n",
       "    <tr>\n",
       "      <th>0</th>\n",
       "      <td>39358</td>\n",
       "      <td>G809</td>\n",
       "      <td>21</td>\n",
       "    </tr>\n",
       "    <tr>\n",
       "      <th>1</th>\n",
       "      <td>39358</td>\n",
       "      <td>Z684</td>\n",
       "      <td>19</td>\n",
       "    </tr>\n",
       "    <tr>\n",
       "      <th>2</th>\n",
       "      <td>39388</td>\n",
       "      <td>I10</td>\n",
       "      <td>5</td>\n",
       "    </tr>\n",
       "    <tr>\n",
       "      <th>3</th>\n",
       "      <td>39388</td>\n",
       "      <td>I5030</td>\n",
       "      <td>3</td>\n",
       "    </tr>\n",
       "    <tr>\n",
       "      <th>4</th>\n",
       "      <td>39388</td>\n",
       "      <td>I509</td>\n",
       "      <td>5</td>\n",
       "    </tr>\n",
       "    <tr>\n",
       "      <th>...</th>\n",
       "      <td>...</td>\n",
       "      <td>...</td>\n",
       "      <td>...</td>\n",
       "    </tr>\n",
       "    <tr>\n",
       "      <th>183776</th>\n",
       "      <td>5390815-1LR-2021-22</td>\n",
       "      <td>E162</td>\n",
       "      <td>1</td>\n",
       "    </tr>\n",
       "    <tr>\n",
       "      <th>183777</th>\n",
       "      <td>5390815-1LR-2021-22</td>\n",
       "      <td>I213</td>\n",
       "      <td>1</td>\n",
       "    </tr>\n",
       "    <tr>\n",
       "      <th>183778</th>\n",
       "      <td>5390815-1LR-2021-22</td>\n",
       "      <td>I214</td>\n",
       "      <td>1</td>\n",
       "    </tr>\n",
       "    <tr>\n",
       "      <th>183779</th>\n",
       "      <td>5390815-1LR-2021-22</td>\n",
       "      <td>I219</td>\n",
       "      <td>1</td>\n",
       "    </tr>\n",
       "    <tr>\n",
       "      <th>183780</th>\n",
       "      <td>5390815-1LR-2021-22</td>\n",
       "      <td>L309</td>\n",
       "      <td>1</td>\n",
       "    </tr>\n",
       "  </tbody>\n",
       "</table>\n",
       "<p>183781 rows × 3 columns</p>\n",
       "</div>"
      ],
      "text/plain": [
       "                   chart_id  code1  number_of_encounters_per_chart_and_code1\n",
       "0                     39358   G809                                        21\n",
       "1                     39358   Z684                                        19\n",
       "2                     39388    I10                                         5\n",
       "3                     39388  I5030                                         3\n",
       "4                     39388   I509                                         5\n",
       "...                     ...    ...                                       ...\n",
       "183776  5390815-1LR-2021-22   E162                                         1\n",
       "183777  5390815-1LR-2021-22   I213                                         1\n",
       "183778  5390815-1LR-2021-22   I214                                         1\n",
       "183779  5390815-1LR-2021-22   I219                                         1\n",
       "183780  5390815-1LR-2021-22   L309                                         1\n",
       "\n",
       "[183781 rows x 3 columns]"
      ]
     },
     "execution_count": 38,
     "metadata": {},
     "output_type": "execute_result"
    }
   ],
   "source": [
    "number_of_encounters_per_chart_and_code1"
   ]
  },
  {
   "cell_type": "code",
   "execution_count": 39,
   "metadata": {},
   "outputs": [],
   "source": [
    "final = final.merge(number_of_encounters_per_chart_and_code1, on = ['chart_id','code1'], how='left')"
   ]
  },
  {
   "cell_type": "code",
   "execution_count": 40,
   "metadata": {},
   "outputs": [],
   "source": [
    "number_of_pages_per_chart_per_enc = pd.DataFrame(final.groupby([\"chart_id\",\"enc_id\"]).page.nunique()).reset_index()"
   ]
  },
  {
   "cell_type": "code",
   "execution_count": 41,
   "metadata": {},
   "outputs": [],
   "source": [
    "number_of_pages_per_chart_per_enc.columns = [\"chart_id\",\"enc_id\",\"number_of_pages_per_chart_per_enc\"]"
   ]
  },
  {
   "cell_type": "code",
   "execution_count": 42,
   "metadata": {},
   "outputs": [
    {
     "data": {
      "text/html": [
       "<div>\n",
       "<style scoped>\n",
       "    .dataframe tbody tr th:only-of-type {\n",
       "        vertical-align: middle;\n",
       "    }\n",
       "\n",
       "    .dataframe tbody tr th {\n",
       "        vertical-align: top;\n",
       "    }\n",
       "\n",
       "    .dataframe thead th {\n",
       "        text-align: right;\n",
       "    }\n",
       "</style>\n",
       "<table border=\"1\" class=\"dataframe\">\n",
       "  <thead>\n",
       "    <tr style=\"text-align: right;\">\n",
       "      <th></th>\n",
       "      <th>chart_id</th>\n",
       "      <th>enc_id</th>\n",
       "      <th>number_of_pages_per_chart_per_enc</th>\n",
       "    </tr>\n",
       "  </thead>\n",
       "  <tbody>\n",
       "    <tr>\n",
       "      <th>0</th>\n",
       "      <td>39358</td>\n",
       "      <td>1</td>\n",
       "      <td>4</td>\n",
       "    </tr>\n",
       "    <tr>\n",
       "      <th>1</th>\n",
       "      <td>39358</td>\n",
       "      <td>2</td>\n",
       "      <td>3</td>\n",
       "    </tr>\n",
       "    <tr>\n",
       "      <th>2</th>\n",
       "      <td>39358</td>\n",
       "      <td>3</td>\n",
       "      <td>4</td>\n",
       "    </tr>\n",
       "    <tr>\n",
       "      <th>3</th>\n",
       "      <td>39358</td>\n",
       "      <td>4</td>\n",
       "      <td>3</td>\n",
       "    </tr>\n",
       "    <tr>\n",
       "      <th>4</th>\n",
       "      <td>39358</td>\n",
       "      <td>5</td>\n",
       "      <td>3</td>\n",
       "    </tr>\n",
       "    <tr>\n",
       "      <th>...</th>\n",
       "      <td>...</td>\n",
       "      <td>...</td>\n",
       "      <td>...</td>\n",
       "    </tr>\n",
       "    <tr>\n",
       "      <th>162909</th>\n",
       "      <td>5390815-1LR-2021-22</td>\n",
       "      <td>0</td>\n",
       "      <td>4</td>\n",
       "    </tr>\n",
       "    <tr>\n",
       "      <th>162910</th>\n",
       "      <td>5390815-1LR-2021-22</td>\n",
       "      <td>1</td>\n",
       "      <td>4</td>\n",
       "    </tr>\n",
       "    <tr>\n",
       "      <th>162911</th>\n",
       "      <td>5390815-1LR-2021-22</td>\n",
       "      <td>2</td>\n",
       "      <td>2</td>\n",
       "    </tr>\n",
       "    <tr>\n",
       "      <th>162912</th>\n",
       "      <td>5390815-1LR-2021-22</td>\n",
       "      <td>3</td>\n",
       "      <td>2</td>\n",
       "    </tr>\n",
       "    <tr>\n",
       "      <th>162913</th>\n",
       "      <td>5390815-1LR-2021-22</td>\n",
       "      <td>4</td>\n",
       "      <td>7</td>\n",
       "    </tr>\n",
       "  </tbody>\n",
       "</table>\n",
       "<p>162914 rows × 3 columns</p>\n",
       "</div>"
      ],
      "text/plain": [
       "                   chart_id  enc_id  number_of_pages_per_chart_per_enc\n",
       "0                     39358       1                                  4\n",
       "1                     39358       2                                  3\n",
       "2                     39358       3                                  4\n",
       "3                     39358       4                                  3\n",
       "4                     39358       5                                  3\n",
       "...                     ...     ...                                ...\n",
       "162909  5390815-1LR-2021-22       0                                  4\n",
       "162910  5390815-1LR-2021-22       1                                  4\n",
       "162911  5390815-1LR-2021-22       2                                  2\n",
       "162912  5390815-1LR-2021-22       3                                  2\n",
       "162913  5390815-1LR-2021-22       4                                  7\n",
       "\n",
       "[162914 rows x 3 columns]"
      ]
     },
     "execution_count": 42,
     "metadata": {},
     "output_type": "execute_result"
    }
   ],
   "source": [
    "number_of_pages_per_chart_per_enc"
   ]
  },
  {
   "cell_type": "code",
   "execution_count": 43,
   "metadata": {},
   "outputs": [],
   "source": [
    "final = final.merge(number_of_pages_per_chart_per_enc, on = ['chart_id','enc_id'], how='left')"
   ]
  },
  {
   "cell_type": "code",
   "execution_count": 44,
   "metadata": {},
   "outputs": [],
   "source": [
    "number_of_pages_in_a_chart = pd.DataFrame(final.groupby(\"chart_id\").page.nunique()).reset_index()"
   ]
  },
  {
   "cell_type": "code",
   "execution_count": 45,
   "metadata": {},
   "outputs": [],
   "source": [
    "number_of_pages_in_a_chart.columns = [\"chart_id\",\"number_of_pages_in_a_chart\"]"
   ]
  },
  {
   "cell_type": "code",
   "execution_count": 46,
   "metadata": {},
   "outputs": [
    {
     "data": {
      "text/html": [
       "<div>\n",
       "<style scoped>\n",
       "    .dataframe tbody tr th:only-of-type {\n",
       "        vertical-align: middle;\n",
       "    }\n",
       "\n",
       "    .dataframe tbody tr th {\n",
       "        vertical-align: top;\n",
       "    }\n",
       "\n",
       "    .dataframe thead th {\n",
       "        text-align: right;\n",
       "    }\n",
       "</style>\n",
       "<table border=\"1\" class=\"dataframe\">\n",
       "  <thead>\n",
       "    <tr style=\"text-align: right;\">\n",
       "      <th></th>\n",
       "      <th>chart_id</th>\n",
       "      <th>number_of_pages_in_a_chart</th>\n",
       "    </tr>\n",
       "  </thead>\n",
       "  <tbody>\n",
       "    <tr>\n",
       "      <th>0</th>\n",
       "      <td>39358</td>\n",
       "      <td>60</td>\n",
       "    </tr>\n",
       "    <tr>\n",
       "      <th>1</th>\n",
       "      <td>39388</td>\n",
       "      <td>19</td>\n",
       "    </tr>\n",
       "    <tr>\n",
       "      <th>2</th>\n",
       "      <td>39400</td>\n",
       "      <td>7</td>\n",
       "    </tr>\n",
       "    <tr>\n",
       "      <th>3</th>\n",
       "      <td>393645</td>\n",
       "      <td>26</td>\n",
       "    </tr>\n",
       "    <tr>\n",
       "      <th>4</th>\n",
       "      <td>393649</td>\n",
       "      <td>14</td>\n",
       "    </tr>\n",
       "    <tr>\n",
       "      <th>...</th>\n",
       "      <td>...</td>\n",
       "      <td>...</td>\n",
       "    </tr>\n",
       "    <tr>\n",
       "      <th>19943</th>\n",
       "      <td>537BD86C-98D8-4B75-B0FE-AB5E1E351957</td>\n",
       "      <td>2</td>\n",
       "    </tr>\n",
       "    <tr>\n",
       "      <th>19944</th>\n",
       "      <td>5382</td>\n",
       "      <td>8</td>\n",
       "    </tr>\n",
       "    <tr>\n",
       "      <th>19945</th>\n",
       "      <td>5387858</td>\n",
       "      <td>2</td>\n",
       "    </tr>\n",
       "    <tr>\n",
       "      <th>19946</th>\n",
       "      <td>539049</td>\n",
       "      <td>18</td>\n",
       "    </tr>\n",
       "    <tr>\n",
       "      <th>19947</th>\n",
       "      <td>5390815-1LR-2021-22</td>\n",
       "      <td>19</td>\n",
       "    </tr>\n",
       "  </tbody>\n",
       "</table>\n",
       "<p>19948 rows × 2 columns</p>\n",
       "</div>"
      ],
      "text/plain": [
       "                                   chart_id  number_of_pages_in_a_chart\n",
       "0                                     39358                          60\n",
       "1                                     39388                          19\n",
       "2                                     39400                           7\n",
       "3                                    393645                          26\n",
       "4                                    393649                          14\n",
       "...                                     ...                         ...\n",
       "19943  537BD86C-98D8-4B75-B0FE-AB5E1E351957                           2\n",
       "19944                                  5382                           8\n",
       "19945                               5387858                           2\n",
       "19946                                539049                          18\n",
       "19947                   5390815-1LR-2021-22                          19\n",
       "\n",
       "[19948 rows x 2 columns]"
      ]
     },
     "execution_count": 46,
     "metadata": {},
     "output_type": "execute_result"
    }
   ],
   "source": [
    "number_of_pages_in_a_chart"
   ]
  },
  {
   "cell_type": "code",
   "execution_count": 47,
   "metadata": {},
   "outputs": [],
   "source": [
    "final = final.merge(number_of_pages_in_a_chart, on = 'chart_id', how='left')"
   ]
  },
  {
   "cell_type": "code",
   "execution_count": 48,
   "metadata": {},
   "outputs": [],
   "source": [
    "number_of_unique_sections_in_a_chart = pd.DataFrame(final.groupby(\"chart_id\").section.nunique()).reset_index()"
   ]
  },
  {
   "cell_type": "code",
   "execution_count": 49,
   "metadata": {},
   "outputs": [],
   "source": [
    "number_of_unique_sections_in_a_chart.columns = [\"chart_id\",\"number_of_unique_sections_in_a_chart\"]"
   ]
  },
  {
   "cell_type": "code",
   "execution_count": 50,
   "metadata": {},
   "outputs": [
    {
     "data": {
      "text/html": [
       "<div>\n",
       "<style scoped>\n",
       "    .dataframe tbody tr th:only-of-type {\n",
       "        vertical-align: middle;\n",
       "    }\n",
       "\n",
       "    .dataframe tbody tr th {\n",
       "        vertical-align: top;\n",
       "    }\n",
       "\n",
       "    .dataframe thead th {\n",
       "        text-align: right;\n",
       "    }\n",
       "</style>\n",
       "<table border=\"1\" class=\"dataframe\">\n",
       "  <thead>\n",
       "    <tr style=\"text-align: right;\">\n",
       "      <th></th>\n",
       "      <th>chart_id</th>\n",
       "      <th>number_of_unique_sections_in_a_chart</th>\n",
       "    </tr>\n",
       "  </thead>\n",
       "  <tbody>\n",
       "    <tr>\n",
       "      <th>0</th>\n",
       "      <td>39358</td>\n",
       "      <td>8</td>\n",
       "    </tr>\n",
       "    <tr>\n",
       "      <th>1</th>\n",
       "      <td>39388</td>\n",
       "      <td>9</td>\n",
       "    </tr>\n",
       "    <tr>\n",
       "      <th>2</th>\n",
       "      <td>39400</td>\n",
       "      <td>5</td>\n",
       "    </tr>\n",
       "    <tr>\n",
       "      <th>3</th>\n",
       "      <td>393645</td>\n",
       "      <td>12</td>\n",
       "    </tr>\n",
       "    <tr>\n",
       "      <th>4</th>\n",
       "      <td>393649</td>\n",
       "      <td>4</td>\n",
       "    </tr>\n",
       "    <tr>\n",
       "      <th>...</th>\n",
       "      <td>...</td>\n",
       "      <td>...</td>\n",
       "    </tr>\n",
       "    <tr>\n",
       "      <th>19943</th>\n",
       "      <td>537BD86C-98D8-4B75-B0FE-AB5E1E351957</td>\n",
       "      <td>4</td>\n",
       "    </tr>\n",
       "    <tr>\n",
       "      <th>19944</th>\n",
       "      <td>5382</td>\n",
       "      <td>7</td>\n",
       "    </tr>\n",
       "    <tr>\n",
       "      <th>19945</th>\n",
       "      <td>5387858</td>\n",
       "      <td>2</td>\n",
       "    </tr>\n",
       "    <tr>\n",
       "      <th>19946</th>\n",
       "      <td>539049</td>\n",
       "      <td>5</td>\n",
       "    </tr>\n",
       "    <tr>\n",
       "      <th>19947</th>\n",
       "      <td>5390815-1LR-2021-22</td>\n",
       "      <td>8</td>\n",
       "    </tr>\n",
       "  </tbody>\n",
       "</table>\n",
       "<p>19948 rows × 2 columns</p>\n",
       "</div>"
      ],
      "text/plain": [
       "                                   chart_id  \\\n",
       "0                                     39358   \n",
       "1                                     39388   \n",
       "2                                     39400   \n",
       "3                                    393645   \n",
       "4                                    393649   \n",
       "...                                     ...   \n",
       "19943  537BD86C-98D8-4B75-B0FE-AB5E1E351957   \n",
       "19944                                  5382   \n",
       "19945                               5387858   \n",
       "19946                                539049   \n",
       "19947                   5390815-1LR-2021-22   \n",
       "\n",
       "       number_of_unique_sections_in_a_chart  \n",
       "0                                         8  \n",
       "1                                         9  \n",
       "2                                         5  \n",
       "3                                        12  \n",
       "4                                         4  \n",
       "...                                     ...  \n",
       "19943                                     4  \n",
       "19944                                     7  \n",
       "19945                                     2  \n",
       "19946                                     5  \n",
       "19947                                     8  \n",
       "\n",
       "[19948 rows x 2 columns]"
      ]
     },
     "execution_count": 50,
     "metadata": {},
     "output_type": "execute_result"
    }
   ],
   "source": [
    "number_of_unique_sections_in_a_chart"
   ]
  },
  {
   "cell_type": "code",
   "execution_count": 51,
   "metadata": {},
   "outputs": [],
   "source": [
    "final = final.merge(number_of_unique_sections_in_a_chart, on = 'chart_id', how='left')"
   ]
  },
  {
   "cell_type": "code",
   "execution_count": 52,
   "metadata": {},
   "outputs": [],
   "source": [
    "import ast"
   ]
  },
  {
   "cell_type": "code",
   "execution_count": 53,
   "metadata": {},
   "outputs": [],
   "source": [
    "final[\"meat\"] = final[\"meat\"].apply(lambda s: ast.literal_eval(s) if type(s) != float else [])"
   ]
  },
  {
   "cell_type": "code",
   "execution_count": 54,
   "metadata": {},
   "outputs": [],
   "source": [
    "final[\"number_of_meat_per_Dx\"] = final[\"meat\"].apply(lambda x: len(x))"
   ]
  },
  {
   "cell_type": "code",
   "execution_count": 55,
   "metadata": {},
   "outputs": [],
   "source": [
    "final[\"final_codes\"] = final[\"final_codes\"].apply(lambda s: ast.literal_eval(s) if type(s) != float else [])"
   ]
  },
  {
   "cell_type": "code",
   "execution_count": 56,
   "metadata": {},
   "outputs": [],
   "source": [
    "final[\"number_of_unique_codes_in_final_codes_per_Dx\"] = final[\"final_codes\"].apply(lambda x: len(set(x)))"
   ]
  },
  {
   "cell_type": "code",
   "execution_count": 57,
   "metadata": {},
   "outputs": [],
   "source": [
    "final[\"parent_rxcui_mapping\"] = final[\"parent_rxcui_mapping\"].apply(lambda s: ast.literal_eval(s) if type(s) != float else [])"
   ]
  },
  {
   "cell_type": "code",
   "execution_count": 58,
   "metadata": {},
   "outputs": [
    {
     "data": {
      "text/plain": [
       "[6809]"
      ]
     },
     "execution_count": 58,
     "metadata": {},
     "output_type": "execute_result"
    }
   ],
   "source": [
    "final[\"parent_rxcui_mapping\"][0]"
   ]
  },
  {
   "cell_type": "code",
   "execution_count": 59,
   "metadata": {},
   "outputs": [],
   "source": [
    "final[\"number_of_unique_parent_rxcui_mapping_per_Dx\"] = final[\"parent_rxcui_mapping\"].apply(lambda x: len(set(x)))"
   ]
  },
  {
   "cell_type": "code",
   "execution_count": 60,
   "metadata": {},
   "outputs": [],
   "source": [
    "final[\"code1_family\"] = final[\"code1\"].apply(lambda x: x[:3] if x else None)"
   ]
  },
  {
   "cell_type": "code",
   "execution_count": 61,
   "metadata": {},
   "outputs": [],
   "source": [
    "number_of_code1_family_per_chart = pd.DataFrame(final.groupby(\"chart_id\").code1_family.nunique()).reset_index()"
   ]
  },
  {
   "cell_type": "code",
   "execution_count": 62,
   "metadata": {},
   "outputs": [],
   "source": [
    "number_of_code1_family_per_chart.columns = [\"chart_id\",\"number_of_code1_family_per_chart\"]"
   ]
  },
  {
   "cell_type": "code",
   "execution_count": 63,
   "metadata": {},
   "outputs": [
    {
     "data": {
      "text/html": [
       "<div>\n",
       "<style scoped>\n",
       "    .dataframe tbody tr th:only-of-type {\n",
       "        vertical-align: middle;\n",
       "    }\n",
       "\n",
       "    .dataframe tbody tr th {\n",
       "        vertical-align: top;\n",
       "    }\n",
       "\n",
       "    .dataframe thead th {\n",
       "        text-align: right;\n",
       "    }\n",
       "</style>\n",
       "<table border=\"1\" class=\"dataframe\">\n",
       "  <thead>\n",
       "    <tr style=\"text-align: right;\">\n",
       "      <th></th>\n",
       "      <th>chart_id</th>\n",
       "      <th>number_of_code1_family_per_chart</th>\n",
       "    </tr>\n",
       "  </thead>\n",
       "  <tbody>\n",
       "    <tr>\n",
       "      <th>0</th>\n",
       "      <td>39358</td>\n",
       "      <td>2</td>\n",
       "    </tr>\n",
       "    <tr>\n",
       "      <th>1</th>\n",
       "      <td>39388</td>\n",
       "      <td>6</td>\n",
       "    </tr>\n",
       "    <tr>\n",
       "      <th>2</th>\n",
       "      <td>39400</td>\n",
       "      <td>3</td>\n",
       "    </tr>\n",
       "    <tr>\n",
       "      <th>3</th>\n",
       "      <td>393645</td>\n",
       "      <td>11</td>\n",
       "    </tr>\n",
       "    <tr>\n",
       "      <th>4</th>\n",
       "      <td>393649</td>\n",
       "      <td>7</td>\n",
       "    </tr>\n",
       "    <tr>\n",
       "      <th>...</th>\n",
       "      <td>...</td>\n",
       "      <td>...</td>\n",
       "    </tr>\n",
       "    <tr>\n",
       "      <th>19943</th>\n",
       "      <td>537BD86C-98D8-4B75-B0FE-AB5E1E351957</td>\n",
       "      <td>2</td>\n",
       "    </tr>\n",
       "    <tr>\n",
       "      <th>19944</th>\n",
       "      <td>5382</td>\n",
       "      <td>6</td>\n",
       "    </tr>\n",
       "    <tr>\n",
       "      <th>19945</th>\n",
       "      <td>5387858</td>\n",
       "      <td>1</td>\n",
       "    </tr>\n",
       "    <tr>\n",
       "      <th>19946</th>\n",
       "      <td>539049</td>\n",
       "      <td>6</td>\n",
       "    </tr>\n",
       "    <tr>\n",
       "      <th>19947</th>\n",
       "      <td>5390815-1LR-2021-22</td>\n",
       "      <td>4</td>\n",
       "    </tr>\n",
       "  </tbody>\n",
       "</table>\n",
       "<p>19948 rows × 2 columns</p>\n",
       "</div>"
      ],
      "text/plain": [
       "                                   chart_id  number_of_code1_family_per_chart\n",
       "0                                     39358                                 2\n",
       "1                                     39388                                 6\n",
       "2                                     39400                                 3\n",
       "3                                    393645                                11\n",
       "4                                    393649                                 7\n",
       "...                                     ...                               ...\n",
       "19943  537BD86C-98D8-4B75-B0FE-AB5E1E351957                                 2\n",
       "19944                                  5382                                 6\n",
       "19945                               5387858                                 1\n",
       "19946                                539049                                 6\n",
       "19947                   5390815-1LR-2021-22                                 4\n",
       "\n",
       "[19948 rows x 2 columns]"
      ]
     },
     "execution_count": 63,
     "metadata": {},
     "output_type": "execute_result"
    }
   ],
   "source": [
    "number_of_code1_family_per_chart"
   ]
  },
  {
   "cell_type": "code",
   "execution_count": 64,
   "metadata": {},
   "outputs": [],
   "source": [
    "final = final.merge(number_of_code1_family_per_chart, on = 'chart_id', how='left')"
   ]
  },
  {
   "cell_type": "code",
   "execution_count": 65,
   "metadata": {},
   "outputs": [],
   "source": [
    "final[\"Acute Condition\"] = np.where(final['DX Condition Type'] == \"Acute\",1,0)"
   ]
  },
  {
   "cell_type": "code",
   "execution_count": 66,
   "metadata": {},
   "outputs": [],
   "source": [
    "number_of_acute_conditions_per_chart = pd.DataFrame(final.groupby(\"chart_id\")[\"Acute Condition\"].sum()).reset_index()"
   ]
  },
  {
   "cell_type": "code",
   "execution_count": 67,
   "metadata": {},
   "outputs": [],
   "source": [
    "number_of_acute_conditions_per_chart.columns = [\"chart_id\",\"number_of_acute_conditions_per_chart\"]"
   ]
  },
  {
   "cell_type": "code",
   "execution_count": 68,
   "metadata": {},
   "outputs": [
    {
     "data": {
      "text/html": [
       "<div>\n",
       "<style scoped>\n",
       "    .dataframe tbody tr th:only-of-type {\n",
       "        vertical-align: middle;\n",
       "    }\n",
       "\n",
       "    .dataframe tbody tr th {\n",
       "        vertical-align: top;\n",
       "    }\n",
       "\n",
       "    .dataframe thead th {\n",
       "        text-align: right;\n",
       "    }\n",
       "</style>\n",
       "<table border=\"1\" class=\"dataframe\">\n",
       "  <thead>\n",
       "    <tr style=\"text-align: right;\">\n",
       "      <th></th>\n",
       "      <th>chart_id</th>\n",
       "      <th>number_of_acute_conditions_per_chart</th>\n",
       "    </tr>\n",
       "  </thead>\n",
       "  <tbody>\n",
       "    <tr>\n",
       "      <th>0</th>\n",
       "      <td>39358</td>\n",
       "      <td>0</td>\n",
       "    </tr>\n",
       "    <tr>\n",
       "      <th>1</th>\n",
       "      <td>39388</td>\n",
       "      <td>5</td>\n",
       "    </tr>\n",
       "    <tr>\n",
       "      <th>2</th>\n",
       "      <td>39400</td>\n",
       "      <td>12</td>\n",
       "    </tr>\n",
       "    <tr>\n",
       "      <th>3</th>\n",
       "      <td>393645</td>\n",
       "      <td>22</td>\n",
       "    </tr>\n",
       "    <tr>\n",
       "      <th>4</th>\n",
       "      <td>393649</td>\n",
       "      <td>66</td>\n",
       "    </tr>\n",
       "    <tr>\n",
       "      <th>...</th>\n",
       "      <td>...</td>\n",
       "      <td>...</td>\n",
       "    </tr>\n",
       "    <tr>\n",
       "      <th>19943</th>\n",
       "      <td>537BD86C-98D8-4B75-B0FE-AB5E1E351957</td>\n",
       "      <td>0</td>\n",
       "    </tr>\n",
       "    <tr>\n",
       "      <th>19944</th>\n",
       "      <td>5382</td>\n",
       "      <td>8</td>\n",
       "    </tr>\n",
       "    <tr>\n",
       "      <th>19945</th>\n",
       "      <td>5387858</td>\n",
       "      <td>0</td>\n",
       "    </tr>\n",
       "    <tr>\n",
       "      <th>19946</th>\n",
       "      <td>539049</td>\n",
       "      <td>3</td>\n",
       "    </tr>\n",
       "    <tr>\n",
       "      <th>19947</th>\n",
       "      <td>5390815-1LR-2021-22</td>\n",
       "      <td>31</td>\n",
       "    </tr>\n",
       "  </tbody>\n",
       "</table>\n",
       "<p>19948 rows × 2 columns</p>\n",
       "</div>"
      ],
      "text/plain": [
       "                                   chart_id  \\\n",
       "0                                     39358   \n",
       "1                                     39388   \n",
       "2                                     39400   \n",
       "3                                    393645   \n",
       "4                                    393649   \n",
       "...                                     ...   \n",
       "19943  537BD86C-98D8-4B75-B0FE-AB5E1E351957   \n",
       "19944                                  5382   \n",
       "19945                               5387858   \n",
       "19946                                539049   \n",
       "19947                   5390815-1LR-2021-22   \n",
       "\n",
       "       number_of_acute_conditions_per_chart  \n",
       "0                                         0  \n",
       "1                                         5  \n",
       "2                                        12  \n",
       "3                                        22  \n",
       "4                                        66  \n",
       "...                                     ...  \n",
       "19943                                     0  \n",
       "19944                                     8  \n",
       "19945                                     0  \n",
       "19946                                     3  \n",
       "19947                                    31  \n",
       "\n",
       "[19948 rows x 2 columns]"
      ]
     },
     "execution_count": 68,
     "metadata": {},
     "output_type": "execute_result"
    }
   ],
   "source": [
    "number_of_acute_conditions_per_chart"
   ]
  },
  {
   "cell_type": "code",
   "execution_count": 69,
   "metadata": {},
   "outputs": [],
   "source": [
    "final = final.merge(number_of_acute_conditions_per_chart, on = 'chart_id', how='left')"
   ]
  },
  {
   "cell_type": "code",
   "execution_count": 70,
   "metadata": {},
   "outputs": [],
   "source": [
    "final[\"Chronic Condition\"] = np.where(final['DX Condition Type'] == \"Chronic\",1,0)"
   ]
  },
  {
   "cell_type": "code",
   "execution_count": 71,
   "metadata": {},
   "outputs": [],
   "source": [
    "number_of_chronic_conditions_per_chart = pd.DataFrame(final.groupby(\"chart_id\")[\"Chronic Condition\"].sum()).reset_index()"
   ]
  },
  {
   "cell_type": "code",
   "execution_count": 72,
   "metadata": {},
   "outputs": [],
   "source": [
    "number_of_chronic_conditions_per_chart.columns = [\"chart_id\",\"number_of_chronic_conditions_per_chart\"]"
   ]
  },
  {
   "cell_type": "code",
   "execution_count": 73,
   "metadata": {},
   "outputs": [
    {
     "data": {
      "text/html": [
       "<div>\n",
       "<style scoped>\n",
       "    .dataframe tbody tr th:only-of-type {\n",
       "        vertical-align: middle;\n",
       "    }\n",
       "\n",
       "    .dataframe tbody tr th {\n",
       "        vertical-align: top;\n",
       "    }\n",
       "\n",
       "    .dataframe thead th {\n",
       "        text-align: right;\n",
       "    }\n",
       "</style>\n",
       "<table border=\"1\" class=\"dataframe\">\n",
       "  <thead>\n",
       "    <tr style=\"text-align: right;\">\n",
       "      <th></th>\n",
       "      <th>chart_id</th>\n",
       "      <th>number_of_chronic_conditions_per_chart</th>\n",
       "    </tr>\n",
       "  </thead>\n",
       "  <tbody>\n",
       "    <tr>\n",
       "      <th>0</th>\n",
       "      <td>39358</td>\n",
       "      <td>63</td>\n",
       "    </tr>\n",
       "    <tr>\n",
       "      <th>1</th>\n",
       "      <td>39388</td>\n",
       "      <td>97</td>\n",
       "    </tr>\n",
       "    <tr>\n",
       "      <th>2</th>\n",
       "      <td>39400</td>\n",
       "      <td>4</td>\n",
       "    </tr>\n",
       "    <tr>\n",
       "      <th>3</th>\n",
       "      <td>393645</td>\n",
       "      <td>162</td>\n",
       "    </tr>\n",
       "    <tr>\n",
       "      <th>4</th>\n",
       "      <td>393649</td>\n",
       "      <td>125</td>\n",
       "    </tr>\n",
       "    <tr>\n",
       "      <th>...</th>\n",
       "      <td>...</td>\n",
       "      <td>...</td>\n",
       "    </tr>\n",
       "    <tr>\n",
       "      <th>19943</th>\n",
       "      <td>537BD86C-98D8-4B75-B0FE-AB5E1E351957</td>\n",
       "      <td>4</td>\n",
       "    </tr>\n",
       "    <tr>\n",
       "      <th>19944</th>\n",
       "      <td>5382</td>\n",
       "      <td>10</td>\n",
       "    </tr>\n",
       "    <tr>\n",
       "      <th>19945</th>\n",
       "      <td>5387858</td>\n",
       "      <td>4</td>\n",
       "    </tr>\n",
       "    <tr>\n",
       "      <th>19946</th>\n",
       "      <td>539049</td>\n",
       "      <td>18</td>\n",
       "    </tr>\n",
       "    <tr>\n",
       "      <th>19947</th>\n",
       "      <td>5390815-1LR-2021-22</td>\n",
       "      <td>32</td>\n",
       "    </tr>\n",
       "  </tbody>\n",
       "</table>\n",
       "<p>19948 rows × 2 columns</p>\n",
       "</div>"
      ],
      "text/plain": [
       "                                   chart_id  \\\n",
       "0                                     39358   \n",
       "1                                     39388   \n",
       "2                                     39400   \n",
       "3                                    393645   \n",
       "4                                    393649   \n",
       "...                                     ...   \n",
       "19943  537BD86C-98D8-4B75-B0FE-AB5E1E351957   \n",
       "19944                                  5382   \n",
       "19945                               5387858   \n",
       "19946                                539049   \n",
       "19947                   5390815-1LR-2021-22   \n",
       "\n",
       "       number_of_chronic_conditions_per_chart  \n",
       "0                                          63  \n",
       "1                                          97  \n",
       "2                                           4  \n",
       "3                                         162  \n",
       "4                                         125  \n",
       "...                                       ...  \n",
       "19943                                       4  \n",
       "19944                                      10  \n",
       "19945                                       4  \n",
       "19946                                      18  \n",
       "19947                                      32  \n",
       "\n",
       "[19948 rows x 2 columns]"
      ]
     },
     "execution_count": 73,
     "metadata": {},
     "output_type": "execute_result"
    }
   ],
   "source": [
    "number_of_chronic_conditions_per_chart"
   ]
  },
  {
   "cell_type": "code",
   "execution_count": 74,
   "metadata": {},
   "outputs": [],
   "source": [
    "final = final.merge(number_of_chronic_conditions_per_chart, on = 'chart_id', how='left')"
   ]
  },
  {
   "cell_type": "markdown",
   "metadata": {},
   "source": [
    "#### Features realted to DOS created from dos_start"
   ]
  },
  {
   "cell_type": "code",
   "execution_count": 75,
   "metadata": {},
   "outputs": [],
   "source": [
    "final['dos_start_year'] = pd.DatetimeIndex(final['dos_start']).year"
   ]
  },
  {
   "cell_type": "code",
   "execution_count": 76,
   "metadata": {},
   "outputs": [],
   "source": [
    "final['dos_start'] = pd.to_datetime(final['dos_start'])"
   ]
  },
  {
   "cell_type": "code",
   "execution_count": 77,
   "metadata": {},
   "outputs": [],
   "source": [
    "final['dos_start_quarter'] = pd.PeriodIndex(final['dos_start'], freq='Q')"
   ]
  },
  {
   "cell_type": "code",
   "execution_count": 78,
   "metadata": {},
   "outputs": [],
   "source": [
    "number_of_unique_dos_per_chart = pd.DataFrame(final.groupby(\"chart_id\").dos_start.nunique()).reset_index()"
   ]
  },
  {
   "cell_type": "code",
   "execution_count": 79,
   "metadata": {},
   "outputs": [],
   "source": [
    "number_of_unique_dos_per_chart.columns = [\"chart_id\",\"number_of_unique_dos_start_per_chart\"]"
   ]
  },
  {
   "cell_type": "code",
   "execution_count": 80,
   "metadata": {},
   "outputs": [
    {
     "data": {
      "text/html": [
       "<div>\n",
       "<style scoped>\n",
       "    .dataframe tbody tr th:only-of-type {\n",
       "        vertical-align: middle;\n",
       "    }\n",
       "\n",
       "    .dataframe tbody tr th {\n",
       "        vertical-align: top;\n",
       "    }\n",
       "\n",
       "    .dataframe thead th {\n",
       "        text-align: right;\n",
       "    }\n",
       "</style>\n",
       "<table border=\"1\" class=\"dataframe\">\n",
       "  <thead>\n",
       "    <tr style=\"text-align: right;\">\n",
       "      <th></th>\n",
       "      <th>chart_id</th>\n",
       "      <th>number_of_unique_dos_start_per_chart</th>\n",
       "    </tr>\n",
       "  </thead>\n",
       "  <tbody>\n",
       "    <tr>\n",
       "      <th>0</th>\n",
       "      <td>39358</td>\n",
       "      <td>21</td>\n",
       "    </tr>\n",
       "    <tr>\n",
       "      <th>1</th>\n",
       "      <td>39388</td>\n",
       "      <td>5</td>\n",
       "    </tr>\n",
       "    <tr>\n",
       "      <th>2</th>\n",
       "      <td>39400</td>\n",
       "      <td>1</td>\n",
       "    </tr>\n",
       "    <tr>\n",
       "      <th>3</th>\n",
       "      <td>393645</td>\n",
       "      <td>5</td>\n",
       "    </tr>\n",
       "    <tr>\n",
       "      <th>4</th>\n",
       "      <td>393649</td>\n",
       "      <td>4</td>\n",
       "    </tr>\n",
       "    <tr>\n",
       "      <th>...</th>\n",
       "      <td>...</td>\n",
       "      <td>...</td>\n",
       "    </tr>\n",
       "    <tr>\n",
       "      <th>19943</th>\n",
       "      <td>537BD86C-98D8-4B75-B0FE-AB5E1E351957</td>\n",
       "      <td>1</td>\n",
       "    </tr>\n",
       "    <tr>\n",
       "      <th>19944</th>\n",
       "      <td>5382</td>\n",
       "      <td>3</td>\n",
       "    </tr>\n",
       "    <tr>\n",
       "      <th>19945</th>\n",
       "      <td>5387858</td>\n",
       "      <td>1</td>\n",
       "    </tr>\n",
       "    <tr>\n",
       "      <th>19946</th>\n",
       "      <td>539049</td>\n",
       "      <td>10</td>\n",
       "    </tr>\n",
       "    <tr>\n",
       "      <th>19947</th>\n",
       "      <td>5390815-1LR-2021-22</td>\n",
       "      <td>5</td>\n",
       "    </tr>\n",
       "  </tbody>\n",
       "</table>\n",
       "<p>19948 rows × 2 columns</p>\n",
       "</div>"
      ],
      "text/plain": [
       "                                   chart_id  \\\n",
       "0                                     39358   \n",
       "1                                     39388   \n",
       "2                                     39400   \n",
       "3                                    393645   \n",
       "4                                    393649   \n",
       "...                                     ...   \n",
       "19943  537BD86C-98D8-4B75-B0FE-AB5E1E351957   \n",
       "19944                                  5382   \n",
       "19945                               5387858   \n",
       "19946                                539049   \n",
       "19947                   5390815-1LR-2021-22   \n",
       "\n",
       "       number_of_unique_dos_start_per_chart  \n",
       "0                                        21  \n",
       "1                                         5  \n",
       "2                                         1  \n",
       "3                                         5  \n",
       "4                                         4  \n",
       "...                                     ...  \n",
       "19943                                     1  \n",
       "19944                                     3  \n",
       "19945                                     1  \n",
       "19946                                    10  \n",
       "19947                                     5  \n",
       "\n",
       "[19948 rows x 2 columns]"
      ]
     },
     "execution_count": 80,
     "metadata": {},
     "output_type": "execute_result"
    }
   ],
   "source": [
    "number_of_unique_dos_per_chart"
   ]
  },
  {
   "cell_type": "code",
   "execution_count": 81,
   "metadata": {},
   "outputs": [],
   "source": [
    "final = final.merge(number_of_unique_dos_per_chart, on = 'chart_id', how='left')"
   ]
  },
  {
   "cell_type": "markdown",
   "metadata": {},
   "source": [
    "#### Dx occured in different years"
   ]
  },
  {
   "cell_type": "code",
   "execution_count": 82,
   "metadata": {},
   "outputs": [],
   "source": [
    "dos_in_different_year = pd.DataFrame(final.groupby(['chart_id','code1']).dos_start_year.nunique().reset_index())"
   ]
  },
  {
   "cell_type": "code",
   "execution_count": 83,
   "metadata": {},
   "outputs": [],
   "source": [
    "dos_in_different_year.columns = ['chart_id','code1','dos_count_of_different_year_per_chart_and_code1']"
   ]
  },
  {
   "cell_type": "code",
   "execution_count": 84,
   "metadata": {},
   "outputs": [],
   "source": [
    "final = final.merge(dos_in_different_year, on = ['chart_id','code1'], how='left')"
   ]
  },
  {
   "cell_type": "code",
   "execution_count": 85,
   "metadata": {},
   "outputs": [],
   "source": [
    "final[\"dos_in_different_year_per_chart_per_dx\"] = np.where(final[\"dos_count_of_different_year_per_chart_and_code1\"] >1,1,0)"
   ]
  },
  {
   "cell_type": "markdown",
   "metadata": {},
   "source": [
    "#### Dx occured in different quarters"
   ]
  },
  {
   "cell_type": "code",
   "execution_count": 86,
   "metadata": {},
   "outputs": [],
   "source": [
    "dos_in_different_quarter = pd.DataFrame(final.groupby(['chart_id','code1']).dos_start_quarter.nunique().reset_index())"
   ]
  },
  {
   "cell_type": "code",
   "execution_count": 87,
   "metadata": {},
   "outputs": [],
   "source": [
    "dos_in_different_quarter.columns = ['chart_id','code1','dos_count_of_different_quarter_per_chart_and_code1']"
   ]
  },
  {
   "cell_type": "code",
   "execution_count": 88,
   "metadata": {},
   "outputs": [],
   "source": [
    "final = final.merge(dos_in_different_quarter, on = ['chart_id','code1'], how='left')"
   ]
  },
  {
   "cell_type": "code",
   "execution_count": 89,
   "metadata": {},
   "outputs": [],
   "source": [
    "final[\"dos_in_different_quarter_per_chart_per_dx\"] = np.where(final[\"dos_count_of_different_quarter_per_chart_and_code1\"] >1,1,0)"
   ]
  },
  {
   "cell_type": "code",
   "execution_count": 90,
   "metadata": {},
   "outputs": [],
   "source": [
    "percentage_of_autocodable_codes_per_chart = pd.DataFrame(round(final.groupby(\"chart_id\").output.sum()/final.groupby(\"chart_id\").output.count(),2).reset_index())"
   ]
  },
  {
   "cell_type": "code",
   "execution_count": 91,
   "metadata": {},
   "outputs": [],
   "source": [
    "percentage_of_autocodable_codes_per_chart.columns = ['chart_id','percentage_of_autocodable_codes_per_chart']"
   ]
  },
  {
   "cell_type": "code",
   "execution_count": 92,
   "metadata": {},
   "outputs": [
    {
     "data": {
      "text/html": [
       "<div>\n",
       "<style scoped>\n",
       "    .dataframe tbody tr th:only-of-type {\n",
       "        vertical-align: middle;\n",
       "    }\n",
       "\n",
       "    .dataframe tbody tr th {\n",
       "        vertical-align: top;\n",
       "    }\n",
       "\n",
       "    .dataframe thead th {\n",
       "        text-align: right;\n",
       "    }\n",
       "</style>\n",
       "<table border=\"1\" class=\"dataframe\">\n",
       "  <thead>\n",
       "    <tr style=\"text-align: right;\">\n",
       "      <th></th>\n",
       "      <th>chart_id</th>\n",
       "      <th>percentage_of_autocodable_codes_per_chart</th>\n",
       "    </tr>\n",
       "  </thead>\n",
       "  <tbody>\n",
       "    <tr>\n",
       "      <th>0</th>\n",
       "      <td>39358</td>\n",
       "      <td>0.91</td>\n",
       "    </tr>\n",
       "    <tr>\n",
       "      <th>1</th>\n",
       "      <td>39388</td>\n",
       "      <td>0.49</td>\n",
       "    </tr>\n",
       "    <tr>\n",
       "      <th>2</th>\n",
       "      <td>39400</td>\n",
       "      <td>0.75</td>\n",
       "    </tr>\n",
       "    <tr>\n",
       "      <th>3</th>\n",
       "      <td>393645</td>\n",
       "      <td>0.80</td>\n",
       "    </tr>\n",
       "    <tr>\n",
       "      <th>4</th>\n",
       "      <td>393649</td>\n",
       "      <td>0.72</td>\n",
       "    </tr>\n",
       "    <tr>\n",
       "      <th>...</th>\n",
       "      <td>...</td>\n",
       "      <td>...</td>\n",
       "    </tr>\n",
       "    <tr>\n",
       "      <th>19943</th>\n",
       "      <td>537BD86C-98D8-4B75-B0FE-AB5E1E351957</td>\n",
       "      <td>0.50</td>\n",
       "    </tr>\n",
       "    <tr>\n",
       "      <th>19944</th>\n",
       "      <td>5382</td>\n",
       "      <td>0.44</td>\n",
       "    </tr>\n",
       "    <tr>\n",
       "      <th>19945</th>\n",
       "      <td>5387858</td>\n",
       "      <td>1.00</td>\n",
       "    </tr>\n",
       "    <tr>\n",
       "      <th>19946</th>\n",
       "      <td>539049</td>\n",
       "      <td>0.78</td>\n",
       "    </tr>\n",
       "    <tr>\n",
       "      <th>19947</th>\n",
       "      <td>5390815-1LR-2021-22</td>\n",
       "      <td>0.72</td>\n",
       "    </tr>\n",
       "  </tbody>\n",
       "</table>\n",
       "<p>19948 rows × 2 columns</p>\n",
       "</div>"
      ],
      "text/plain": [
       "                                   chart_id  \\\n",
       "0                                     39358   \n",
       "1                                     39388   \n",
       "2                                     39400   \n",
       "3                                    393645   \n",
       "4                                    393649   \n",
       "...                                     ...   \n",
       "19943  537BD86C-98D8-4B75-B0FE-AB5E1E351957   \n",
       "19944                                  5382   \n",
       "19945                               5387858   \n",
       "19946                                539049   \n",
       "19947                   5390815-1LR-2021-22   \n",
       "\n",
       "       percentage_of_autocodable_codes_per_chart  \n",
       "0                                           0.91  \n",
       "1                                           0.49  \n",
       "2                                           0.75  \n",
       "3                                           0.80  \n",
       "4                                           0.72  \n",
       "...                                          ...  \n",
       "19943                                       0.50  \n",
       "19944                                       0.44  \n",
       "19945                                       1.00  \n",
       "19946                                       0.78  \n",
       "19947                                       0.72  \n",
       "\n",
       "[19948 rows x 2 columns]"
      ]
     },
     "execution_count": 92,
     "metadata": {},
     "output_type": "execute_result"
    }
   ],
   "source": [
    "percentage_of_autocodable_codes_per_chart"
   ]
  },
  {
   "cell_type": "code",
   "execution_count": 93,
   "metadata": {},
   "outputs": [],
   "source": [
    "final = final.merge(percentage_of_autocodable_codes_per_chart, on = 'chart_id', how='left')"
   ]
  },
  {
   "cell_type": "code",
   "execution_count": 104,
   "metadata": {},
   "outputs": [],
   "source": [
    "#final.to_csv(\"19thFeb2022_100k_120k_data_merged_with_sf_and_new_features_v2.csv\")"
   ]
  },
  {
   "cell_type": "code",
   "execution_count": 1,
   "metadata": {},
   "outputs": [],
   "source": [
    "import os"
   ]
  },
  {
   "cell_type": "code",
   "execution_count": 5,
   "metadata": {},
   "outputs": [],
   "source": [
    "os.remove(\"CIOX_RAHIX_IC20190521142219_591M7914320_124850035.json\")"
   ]
  },
  {
   "cell_type": "code",
   "execution_count": null,
   "metadata": {},
   "outputs": [],
   "source": [
    "a = [   \"CIOX_RAHIX_IC20190521142219_012M6291820_124836556.json\",\n",
    "        CIOX_RAHIX_IC20190521142219_014M8322040_124838067.json\",\n",
    "        CIOX_RAHIX_IC20190521142219_015M7855410_124843568.json\",\n",
    "        CIOX_RAHIX_IC20190521142219_024A7967120_124850658.json\",\n",
    "        CIOX_RAHIX_IC20190521142219_024M8275510_124837244.json\",\n",
    "        CIOX_RAHIX_IC20190521142219_026M9276310_124838029.json\",\n",
    "        CIOX_RAHIX_IC20190521142219_028M7971420_124847182.json\",\n",
    "        CIOX_RAHIX_IC20190521142219_029A6375620_124852610.json\",\n",
    "        CIOX_RAHIX_IC20190521142219_029M8826530_124850860.json\",\n",
    "        CIOX_RAHIX_IC20190521142219_032M8903310_124852103.json\",\n",
    "        CIOX_RAHIX_IC20190521142219_052M8236420_124855093.json\",\n",
    "        CIOX_RAHIX_IC20190521142219_056M9946920_124853006.json\",\n",
    "        CIOX_RAHIX_IC20190521142219_059M8770530_124836955.json\",\n",
    "        CIOX_RAHIX_IC20190521142219_059M8863510_124854378.json\",\n",
    "        CIOX_RAHIX_IC20190521142219_059M8916020_124836759.json\",\n",
    "        CIOX_RAHIX_IC20190521142219_061A7391510_124859874.json\",\n",
    "        CIOX_RAHIX_IC20190521142219_065M9483320_124838474.json\",\n",
    "        CIOX_RAHIX_IC20190521142219_075M5799410_124850118.json\n",
    "        CIOX_RAHIX_IC20190521142219_080A8015630_124859098.json\n",
    "        CIOX_RAHIX_IC20190521142219_080M8814020_124837010.json\n",
    "        CIOX_RAHIX_IC20190521142219_082M7600740_124846262.json\n",
    "        CIOX_RAHIX_IC20190521142219_083M7196450_124845040.json\n",
    "        CIOX_RAHIX_IC20190521142219_084M9268620_124836493.json\n",
    "        CIOX_RAHIX_IC20190521142219_086A5143820_124841415.json\n",
    "        CIOX_RAHIX_IC20190521142219_094M9194610_124838376.json\n",
    "        CIOX_RAHIX_IC20190521142219_095M5815720_124853635.json\n",
    "        CIOX_RAHIX_IC20190521142219_098M5816110_124849950.json\n",
    "        CIOX_RAHIX_IC20190521142219_098M8838640_124850551.json\n",
    "        CIOX_RAHIX_IC20190521142219_105M5353910_124838166.json\n",
    "        CIOX_RAHIX_IC20190521142219_107M8807740_124836335.json\n",
    "        CIOX_RAHIX_IC20190521142219_110M5848320_124859664.json\n",
    "        CIOX_RAHIX_IC20190521142219_120M5797020_124856271.json\n",
    "        CIOX_RAHIX_IC20190521142219_120M8814220_124847461.json\n",
    "        CIOX_RAHIX_IC20190521142219_121A6816450_124858069.json\n",
    "        CIOX_RAHIX_IC20190521142219_130M7313310_124854120.json\n",
    "        CIOX_RAHIX_IC20190521142219_148A7996650_124840241.json\n",
    "        CIOX_RAHIX_IC20190521142219_166M5848720_124840645.json\n",
    "        CIOX_RAHIX_IC20190521142219_168M5355310_124856772.json\n",
    "        CIOX_RAHIX_IC20190521142219_173A6256910_124848639.json\n",
    "        CIOX_RAHIX_IC20190521142219_176M8806210_124837346.json\n",
    "        CIOX_RAHIX_IC20190521142219_181A5196310_124856743.json\n",
    "        CIOX_RAHIX_IC20190521142219_194M7834310_124846824.json\n",
    "        CIOX_RAHIX_IC20190521142219_202M7604520_124854885.json\n",
    "        CIOX_RAHIX_IC20190521142219_206M7344430_124840117.json\n",
    "        CIOX_RAHIX_IC20190521142219_209A7538010_124848292.json\n",
    "        CIOX_RAHIX_IC20190521142219_213A8020210_124836598.json\n",
    "        CIOX_RAHIX_IC20190521142219_215M6057920_124840135.json\n",
    "        CIOX_RAHIX_IC20190521142219_230M9094620_124845046.json\n",
    "        CIOX_RAHIX_IC20190521142219_234M5357010_124842497.json\n",
    "        CIOX_RAHIX_IC20190521142219_254M7905510_124838726.json\n",
    "        CIOX_RAHIX_IC20190521142219_254M8775010_124838978.json\n",
    "        CIOX_RAHIX_IC20190521142219_255M8817140_124837856.json\n",
    "        CIOX_RAHIX_IC20190521142219_257A5452120_124849934.json\n",
    "        CIOX_RAHIX_IC20190521142219_267M6935320_124850738.json\n",
    "        CIOX_RAHIX_IC20190521142219_268M5686120_124850737.json\n",
    "        CIOX_RAHIX_IC20190521142219_277M8340330_124852792.json\n",
    "        CIOX_RAHIX_IC20190521142219_281M5748010_124860004.json\n",
    "        CIOX_RAHIX_IC20190521142219_291M8012910_124858109.json\n",
    "        CIOX_RAHIX_IC20190521142219_297M5827320_124842157.json\n",
    "        CIOX_RAHIX_IC20190521142219_297M5852910_124845845.json\n",
    "        CIOX_RAHIX_IC20190521142219_299M8816120_124857776.json\n",
    "        CIOX_RAHIX_IC20190521142219_299M9208910_124846056.json\n",
    "        CIOX_RAHIX_IC20190521142219_301A7990010_124839901.json\n",
    "        CIOX_RAHIX_IC20190521142219_306M9305020_124846264.json\n",
    "        CIOX_RAHIX_IC20190521142219_311M9234840_124844959.json\n",
    "        CIOX_RAHIX_IC20190521142219_316A8026520_124846755.json\n",
    "        CIOX_RAHIX_IC20190521142219_329A7156610_124844482.json\n",
    "        CIOX_RAHIX_IC20190521142219_329M8868510_124859484.json\n",
    "        CIOX_RAHIX_IC20190521142219_333M5686520_124843637.json\n",
    "        CIOX_RAHIX_IC20190521142219_334M7904810_124848070.json\n",
    "        CIOX_RAHIX_IC20190521142219_337M5690410_124836188.json\n",
    "        CIOX_RAHIX_IC20190521142219_348A6497140_124836744.json\n",
    "        CIOX_RAHIX_IC20190521142219_348A7969420_124839923.json\n",
    "        CIOX_RAHIX_IC20190521142219_349A7118620_124857441.json\n",
    "        CIOX_RAHIX_IC20190521142219_350A6286540_124839331.json\n",
    "        CIOX_RAHIX_IC20190521142219_360M5770110_124856957.json\n",
    "        CIOX_RAHIX_IC20190521142219_361M6611210_124846489.json\n",
    "        CIOX_RAHIX_IC20190521142219_368M9342020_124857474.json\n",
    "        CIOX_RAHIX_IC20190521142219_371M5858320_124843418.json\n",
    "        CIOX_RAHIX_IC20190521142219_380M5708720_124839697.json\n",
    "        CIOX_RAHIX_IC20190521142219_380M8232410_124850842.json\n",
    "        CIOX_RAHIX_IC20190521142219_390M7972620_124852767.json\n",
    "        CIOX_RAHIX_IC20190521142219_394M8737110_124850820.json\n",
    "        CIOX_RAHIX_IC20190521142219_399A8006920_124853354.json\n",
    "        CIOX_RAHIX_IC20190521142219_402M5776810_124844600.json\n",
    "        CIOX_RAHIX_IC20190521142219_404M5518620_124838611.json\n",
    "        CIOX_RAHIX_IC20190521142219_406M5740430_124839179.json\n",
    "        CIOX_RAHIX_IC20190521142219_424A7005320_124857470.json\n",
    "        CIOX_RAHIX_IC20190521142219_425M5777320_124845087.json\n",
    "        CIOX_RAHIX_IC20190521142219_426M9462120_124846370.json\n",
    "        CIOX_RAHIX_IC20190521142219_428A7573510_124837024.json\n",
    "        CIOX_RAHIX_IC20190521142219_433M5359540_124838220.json\n",
    "        CIOX_RAHIX_IC20190521142219_434M8607840_124846187.json\n",
    "        CIOX_RAHIX_IC20190521142219_442M5355230_124854664.json\n",
    "        CIOX_RAHIX_IC20190521142219_447A8010320_124853153.json\n",
    "        CIOX_RAHIX_IC20190521142219_462M5499410_124857882.json\n",
    "        CIOX_RAHIX_IC20190521142219_464M5969940_124844455.json\n",
    "        CIOX_RAHIX_IC20190521142219_464M6239820_124847038.json\n",
    "        CIOX_RAHIX_IC20190521142219_466M5849940_124840678.json\n",
    "        CIOX_RAHIX_IC20190521142219_467A7589140_124836530.json\n",
    "        CIOX_RAHIX_IC20190521142219_467M6225350_124850629.json\n",
    "        CIOX_RAHIX_IC20190521142219_470M9296470_124844314.json\n",
    "        CIOX_RAHIX_IC20190521142219_475A6238610_124842428.json\n",
    "        CIOX_RAHIX_IC20190521142219_477M8326550_124852592.json\n",
    "        CIOX_RAHIX_IC20190521142219_479M5812050_124849280.json\n",
    "        CIOX_RAHIX_IC20190521142219_479M9288710_124838462.json\n",
    "        CIOX_RAHIX_IC20190521142219_491A5064620_124842403.json\n",
    "        CIOX_RAHIX_IC20190521142219_502M9900220_124845253.json\n",
    "        CIOX_RAHIX_IC20190521142219_503M8891420_124846129.json\n",
    "        CIOX_RAHIX_IC20190521142219_506M8192320_124836126.json\n",
    "        CIOX_RAHIX_IC20190521142219_509M5826110_124855458.json\n",
    "        CIOX_RAHIX_IC20190521142219_512M7794710_124848988.json\n",
    "        CIOX_RAHIX_IC20190521142219_520M9109410_124849563.json\n",
    "        CIOX_RAHIX_IC20190521142219_529M9867710_124837406.json\n",
    "        CIOX_RAHIX_IC20190521142219_534M7900720_124859742.json\n",
    "        CIOX_RAHIX_IC20190521142219_535M9584120_124840000.json\n",
    "        CIOX_RAHIX_IC20190521142219_536A7975640_124855275.json\n",
    "        CIOX_RAHIX_IC20190521142219_540M6712320_124854988.json\n",
    "        CIOX_RAHIX_IC20190521142219_544A7608930_124853060.json\n",
    "        CIOX_RAHIX_IC20190521142219_549M6189020_124839464.json\n",
    "        CIOX_RAHIX_IC20190521142219_556A7902520_124859870.json\n",
    "        CIOX_RAHIX_IC20190521142219_563A7586010_124845031.json\n",
    "        CIOX_RAHIX_IC20190521142219_576M7898120_124859087.json\n",
    "        CIOX_RAHIX_IC20190521142219_580A6401670_124857962.json\n",
    "        CIOX_RAHIX_IC20190521142219_593M7354410_124856219.json\n",
    "        CIOX_RAHIX_IC20190521142219_600M5842110_124846917.json\n",
    "        CIOX_RAHIX_IC20190521142219_605A6998130_124850055.json\n",
    "        CIOX_RAHIX_IC20190521142219_607A6342340_124855490.json\n",
    "        CIOX_RAHIX_IC20190521142219_607M7759520_124841320.json\n",
    "        CIOX_RAHIX_IC20190521142219_608M7267220_124844484.json\n",
    "        CIOX_RAHIX_IC20190521142219_611M5499220_124844258.json\n",
    "        CIOX_RAHIX_IC20190521142219_614A7033651_124841865.json\n",
    "        CIOX_RAHIX_IC20190521142219_616M6450840_124836852.json\n",
    "        CIOX_RAHIX_IC20190521142219_619M5348420_124837523.json\n",
    "        CIOX_RAHIX_IC20190521142219_619M9787120_124841979.json\n",
    "        CIOX_RAHIX_IC20190521142219_623A6454320_124841156.json\n",
    "        CIOX_RAHIX_IC20190521142219_637M5687210_124843020.json\n",
    "        CIOX_RAHIX_IC20190521142219_646M8771710_124857779.json\n",
    "        CIOX_RAHIX_IC20190521142219_649M8608940_124851011.json\n",
    "        CIOX_RAHIX_IC20190521142219_653M5773410_124849417.json\n",
    "        CIOX_RAHIX_IC20190521142219_654A5156310_124853860.json\n",
    "        CIOX_RAHIX_IC20190521142219_654M8765420_124858743.json\n",
    "        CIOX_RAHIX_IC20190521142219_656M7755110_124859483.json\n",
    "        CIOX_RAHIX_IC20190521142219_657A5831910_124858925.json\n",
    "        CIOX_RAHIX_IC20190521142219_661M5360310_124853694.json\n",
    "        CIOX_RAHIX_IC20190521142219_661M9907220_124853141.json\n",
    "        CIOX_RAHIX_IC20190521142219_663A6358910_124836273.json\n",
    "        CIOX_RAHIX_IC20190521142219_663M5343350_124856948.json\n",
    "        CIOX_RAHIX_IC20190521142219_664A5912720_124847988.json\n",
    "        CIOX_RAHIX_IC20190521142219_665A8005940_124845369.json\n",
    "        CIOX_RAHIX_IC20190521142219_674M6413410_124846703.json\n",
    "        CIOX_RAHIX_IC20190521142219_677A6488220_124854313.json\n",
    "        CIOX_RAHIX_IC20190521142219_683M8759810_124846898.json\n",
    "        CIOX_RAHIX_IC20190521142219_686A7975620_124844183.json\n",
    "        CIOX_RAHIX_IC20190521142219_697M5843740_124842267.json\n",
    "        CIOX_RAHIX_IC20190521142219_697M9827020_124855114.json\n",
    "        CIOX_RAHIX_IC20190521142219_705M9249610_124847082.json\n",
    "        CIOX_RAHIX_IC20190521142219_708A8008841_124855552.json\n",
    "        CIOX_RAHIX_IC20190521142219_709A7830320_124850969.json\n",
    "        CIOX_RAHIX_IC20190521142219_709A7877910_124844418.json\n",
    "        CIOX_RAHIX_IC20190521142219_713M5101820_124852807.json\n",
    "        CIOX_RAHIX_IC20190521142219_714M6537210_124840253.json\n",
    "        CIOX_RAHIX_IC20190521142219_714M7919720_124836266.json\n",
    "        CIOX_RAHIX_IC20190521142219_715A7657010_124845585.json\n",
    "        CIOX_RAHIX_IC20190521142219_715A7998330_124840792.json\n",
    "        CIOX_RAHIX_IC20190521142219_718A5388310_124856627.json\n",
    "        CIOX_RAHIX_IC20190521142219_722M6665030_124848591.json\n",
    "        CIOX_RAHIX_IC20190521142219_723A6314520_124843383.json\n",
    "        CIOX_RAHIX_IC20190521142219_727M6123220_124849902.json\n",
    "        CIOX_RAHIX_IC20190521142219_731M7929620_124859114.json\n",
    "        CIOX_RAHIX_IC20190521142219_735A7689450_124849443.json\n",
    "        CIOX_RAHIX_IC20190521142219_736A5188910_124836850.json\n",
    "        CIOX_RAHIX_IC20190521142219_736M9186920_124838198.json\n",
    "        CIOX_RAHIX_IC20190521142219_739M7801820_124853810.json\n",
    "        CIOX_RAHIX_IC20190521142219_739M8751820_124857295.json\n",
    "        CIOX_RAHIX_IC20190521142219_742A6325910_124838901.json\n",
    "        CIOX_RAHIX_IC20190521142219_747M8977220_124848744.json\n",
    "        CIOX_RAHIX_IC20190521142219_750M5908020_124836320.json\n",
    "        CIOX_RAHIX_IC20190521142219_752A6245010_124846277.json\n",
    "        CIOX_RAHIX_IC20190521142219_753A7412450_124857291.json\n",
    "        CIOX_RAHIX_IC20190521142219_761M8997570_124859041.json\n",
    "        CIOX_RAHIX_IC20190521142219_762A6526310_124851880.json\n",
    "        CIOX_RAHIX_IC20190521142219_762M8429220_124858261.json\n",
    "        CIOX_RAHIX_IC20190521142219_764M8816510_124842321.json\n",
    "        CIOX_RAHIX_IC20190521142219_764M9359120_124852685.json\n",
    "        CIOX_RAHIX_IC20190521142219_768M8829220_124844563.json\n",
    "        CIOX_RAHIX_IC20190521142219_778M5841310_124840033.json\n",
    "        CIOX_RAHIX_IC20190521142219_782A7975510_124856877.json\n",
    "        CIOX_RAHIX_IC20190521142219_789M8478230_124858346.json\n",
    "        CIOX_RAHIX_IC20190521142219_791M8777710_124855954.json\n",
    "        CIOX_RAHIX_IC20190521142219_797M5064950_124848860.json\n",
    "        CIOX_RAHIX_IC20190521142219_798M8813220_124841434.json\n",
    "        CIOX_RAHIX_IC20190521142219_798M8829020_124845361.json\n",
    "        CIOX_RAHIX_IC20190521142219_799A7921210_124857519.json\n",
    "        CIOX_RAHIX_IC20190521142219_809M9152020_124836980.json\n",
    "        CIOX_RAHIX_IC20190521142219_812A6423210_124855829.json\n",
    "        CIOX_RAHIX_IC20190521142219_818A5450540_124842301.json\n",
    "        CIOX_RAHIX_IC20190521142219_820A7971020_124850102.json\n",
    "        CIOX_RAHIX_IC20190521142219_821M9332230_124847837.json\n",
    "        CIOX_RAHIX_IC20190521142219_825A7040670_124850927.json\n",
    "        CIOX_RAHIX_IC20190521142219_827M8017020_124850923.json\n",
    "        CIOX_RAHIX_IC20190521142219_829M6252610_124854112.json\n",
    "        CIOX_RAHIX_IC20190521142219_833M9568520_124843514.json\n",
    "        CIOX_RAHIX_IC20190521142219_836A6368710_124842220.json\n",
    "        CIOX_RAHIX_IC20190521142219_836M9859120_124840360.json\n",
    "        CIOX_RAHIX_IC20190521142219_839M8897220_124846930.json\n",
    "        CIOX_RAHIX_IC20190521142219_841M7864670_124841163.json\n",
    "        CIOX_RAHIX_IC20190521142219_843A7398020_124854430.json\n",
    "        CIOX_RAHIX_IC20190521142219_843M6992820_124850972.json\n",
    "        CIOX_RAHIX_IC20190521142219_848M6230740_124842945.json\n",
    "        CIOX_RAHIX_IC20190521142219_850M9921120_124844386.json\n",
    "        CIOX_RAHIX_IC20190521142219_857M7066120_124851567.json\n",
    "        CIOX_RAHIX_IC20190521142219_860M8405220_124845202.json\n",
    "        CIOX_RAHIX_IC20190521142219_862A7540140_124849000.json\n",
    "        CIOX_RAHIX_IC20190521142219_866M5598710_124856994.json\n",
    "        CIOX_RAHIX_IC20190521142219_868M7835820_124843442.json\n",
    "        CIOX_RAHIX_IC20190521142219_870A6996540_124841539.json\n",
    "        CIOX_RAHIX_IC20190521142219_872A5485920_124844961.json\n",
    "        CIOX_RAHIX_IC20190521142219_873A6160710_124838848.json\n",
    "        CIOX_RAHIX_IC20190521142219_873M9155670_124846252.json\n",
    "        CIOX_RAHIX_IC20190521142219_874M8325620_124840450.json\n",
    "        CIOX_RAHIX_IC20190521142219_880M7697320_124842901.json\n",
    "        CIOX_RAHIX_IC20190521142219_881M5811470_124841770.json\n",
    "        CIOX_RAHIX_IC20190521142219_883M5356510_124844046.json\n",
    "        CIOX_RAHIX_IC20190521142219_884A7007720_124852574.json\n",
    "        CIOX_RAHIX_IC20190521142219_885A2495230_124854290.json\n",
    "        CIOX_RAHIX_IC20190521142219_889M5710410_124843130.json\n",
    "        CIOX_RAHIX_IC20190521142219_892M8250940_124854909.json\n",
    "        CIOX_RAHIX_IC20190521142219_893M7932910_124848089.json\n",
    "        CIOX_RAHIX_IC20190521142219_895A6778720_124850279.json\n",
    "        CIOX_RAHIX_IC20190521142219_899M5772610_124841777.json\n",
    "        CIOX_RAHIX_IC20190521142219_902M7890310_124854086.json\n",
    "        CIOX_RAHIX_IC20190521142219_902M9347740_124844630.json\n",
    "        CIOX_RAHIX_IC20190521142219_906M7528920_124851673.json\n",
    "        CIOX_RAHIX_IC20190521142219_908A5213120_124838022.json\n",
    "        CIOX_RAHIX_IC20190521142219_908M9460320_124856909.json\n",
    "        CIOX_RAHIX_IC20190521142219_909M6998120_124838154.json\n",
    "        CIOX_RAHIX_IC20190521142219_911M6645370_124847810.json\n",
    "        CIOX_RAHIX_IC20190521142219_912M9244420_124837685.json\n",
    "        CIOX_RAHIX_IC20190521142219_913M6894220_124841889.json\n",
    "        CIOX_RAHIX_IC20190521142219_914A7361220_124839058.json\n",
    "        CIOX_RAHIX_IC20190521142219_915M5808410_124845806.json\n",
    "        CIOX_RAHIX_IC20190521142219_917M8775620_124849384.json\n",
    "        CIOX_RAHIX_IC20190521142219_918M9573810_124843420.json\n",
    "        CIOX_RAHIX_IC20190521142219_919A5424940_124859755.json\n",
    "        CIOX_RAHIX_IC20190521142219_922M9685120_124852825.json\n",
    "        CIOX_RAHIX_IC20190521142219_923M6634210_124850072.json\n",
    "        CIOX_RAHIX_IC20190521142219_924M5362240_124857889.json\n",
    "        CIOX_RAHIX_IC20190521142219_926M5912910_124838614.json\n",
    "        CIOX_RAHIX_IC20190521142219_927A7980320_124843848.json\n",
    "        CIOX_RAHIX_IC20190521142219_929A6366610_124842862.json\n",
    "        CIOX_RAHIX_IC20190521142219_932A7484410_124857365.json\n",
    "        CIOX_RAHIX_IC20190521142219_932M6468640_124858650.json\n",
    "        CIOX_RAHIX_IC20190521142219_933M6537320_124857881.json\n",
    "        CIOX_RAHIX_IC20190521142219_935M5768820_124840904.json\n",
    "        CIOX_RAHIX_IC20190521142219_935M7923620_124856610.json\n",
    "        CIOX_RAHIX_IC20190521142219_935M8225040_124847885.json\n",
    "        CIOX_RAHIX_IC20190521142219_935M8369220_124848490.json\n",
    "        CIOX_RAHIX_IC20190521142219_936M8396210_124843127.json\n",
    "        CIOX_RAHIX_IC20190521142219_938M5908340_124849781.json\n",
    "        CIOX_RAHIX_IC20190521142219_941M5657810_124842390.json\n",
    "        CIOX_RAHIX_IC20190521142219_942A7387240_124850960.json\n",
    "        CIOX_RAHIX_IC20190521142219_950M5736020_124841763.json\n",
    "        CIOX_RAHIX_IC20190521142219_952A7890340_124836680.json\n",
    "        CIOX_RAHIX_IC20190521142219_952M5349720_124844772.json\n",
    "        CIOX_RAHIX_IC20190521142219_952M7376720_124844037.json\n",
    "        CIOX_RAHIX_IC20190521142219_955M7625440_124845374.json\n",
    "        CIOX_RAHIX_IC20190521142219_956M7983620_124848209.json\n",
    "        CIOX_RAHIX_IC20190521142219_957M5853010_124838163.json\n",
    "        CIOX_RAHIX_IC20190521142219_960A7886141_124836485.json\n",
    "        CIOX_RAHIX_IC20190521142219_961M9191220_124858265.json\n",
    "        CIOX_RAHIX_IC20190521142219_961M9817110_124855014.json\n",
    "        CIOX_RAHIX_IC20190521142219_965A6304110_124856895.json\n",
    "        CIOX_RAHIX_IC20190521142219_970M9139520_124847949.json\n",
    "        CIOX_RAHIX_IC20190521142219_973A7415940_124848564.json\n",
    "        CIOX_RAHIX_IC20190521142219_975M8361520_124846097.json\n",
    "        CIOX_RAHIX_IC20190521142219_976M9702810_124845813.json\n",
    "        CIOX_RAHIX_IC20190521142219_981A5346710_124836564.json\n",
    "        CIOX_RAHIX_IC20190521142219_982A8009420_124849056.json\n",
    "        CIOX_RAHIX_IC20190521142219_983M5683320_124851513.json\n",
    "        CIOX_RAHIX_IC20190521142219_983M5683330_124839686.json\n",
    "        CIOX_RAHIX_IC20190521142219_988M8804140_124844185.json\n",
    "        CIOX_RAHIX_IC20190521142219_989M9918720_124839734.json\n",
    "        CIOX_RAHIX_IC20190521142219_990M5775620_124842451.json\n",
    "        CIOX_RAHIX_IC20190521142219_990M8002820_124838401.json\n",
    "        CIOX_RAHIX_IC20190521142219_992M8571310_124840753.json\n",
    "        CIOX_RAHIX_IC20190521142219_992M9013772_124850208.json\n",
    "        CIOX_RAHIX_IC20190521142219_993A5600540_124836772.json\n",
    "        CIOX_RAHIX_IC20190521142219_993M8314920_124845834.json\n",
    "        CIOX_RAHIX_IC20190521142219_996M5771110_124852359.json\n",
    "        CIOX_RAHIX_IC20190521142219_996M5957050_124851003.json\n",
    "        CIOX_RAHIX_IC20190521142219_996M6554610_124841055.json\n",
    "        CIOX_RAHIX_IC20190521142219_997A5550230_124847974.json\n",
    "        CIOX_RAHIX_IC20190521142219_997M9224720_124839441.json]"
   ]
  },
  {
   "cell_type": "code",
   "execution_count": null,
   "metadata": {},
   "outputs": [],
   "source": []
  },
  {
   "cell_type": "code",
   "execution_count": null,
   "metadata": {},
   "outputs": [],
   "source": []
  },
  {
   "cell_type": "code",
   "execution_count": null,
   "metadata": {},
   "outputs": [],
   "source": []
  },
  {
   "cell_type": "code",
   "execution_count": null,
   "metadata": {},
   "outputs": [],
   "source": []
  },
  {
   "cell_type": "code",
   "execution_count": null,
   "metadata": {},
   "outputs": [],
   "source": []
  },
  {
   "cell_type": "code",
   "execution_count": null,
   "metadata": {},
   "outputs": [],
   "source": []
  },
  {
   "cell_type": "code",
   "execution_count": null,
   "metadata": {},
   "outputs": [],
   "source": []
  },
  {
   "cell_type": "code",
   "execution_count": null,
   "metadata": {},
   "outputs": [],
   "source": []
  },
  {
   "cell_type": "code",
   "execution_count": null,
   "metadata": {},
   "outputs": [],
   "source": []
  },
  {
   "cell_type": "code",
   "execution_count": null,
   "metadata": {},
   "outputs": [],
   "source": []
  },
  {
   "cell_type": "code",
   "execution_count": null,
   "metadata": {},
   "outputs": [],
   "source": []
  },
  {
   "cell_type": "code",
   "execution_count": null,
   "metadata": {},
   "outputs": [],
   "source": []
  },
  {
   "cell_type": "code",
   "execution_count": null,
   "metadata": {},
   "outputs": [],
   "source": []
  },
  {
   "cell_type": "code",
   "execution_count": null,
   "metadata": {},
   "outputs": [],
   "source": []
  },
  {
   "cell_type": "code",
   "execution_count": null,
   "metadata": {},
   "outputs": [],
   "source": []
  },
  {
   "cell_type": "code",
   "execution_count": null,
   "metadata": {},
   "outputs": [],
   "source": []
  },
  {
   "cell_type": "code",
   "execution_count": null,
   "metadata": {},
   "outputs": [],
   "source": []
  },
  {
   "cell_type": "code",
   "execution_count": null,
   "metadata": {},
   "outputs": [],
   "source": []
  },
  {
   "cell_type": "code",
   "execution_count": null,
   "metadata": {},
   "outputs": [],
   "source": []
  },
  {
   "cell_type": "code",
   "execution_count": null,
   "metadata": {},
   "outputs": [],
   "source": []
  },
  {
   "cell_type": "code",
   "execution_count": null,
   "metadata": {},
   "outputs": [],
   "source": []
  },
  {
   "cell_type": "code",
   "execution_count": null,
   "metadata": {},
   "outputs": [],
   "source": []
  },
  {
   "cell_type": "code",
   "execution_count": null,
   "metadata": {},
   "outputs": [],
   "source": []
  }
 ],
 "metadata": {
  "kernelspec": {
   "display_name": "Python 3",
   "language": "python",
   "name": "python3"
  },
  "language_info": {
   "codemirror_mode": {
    "name": "ipython",
    "version": 3
   },
   "file_extension": ".py",
   "mimetype": "text/x-python",
   "name": "python",
   "nbconvert_exporter": "python",
   "pygments_lexer": "ipython3",
   "version": "3.8.5"
  }
 },
 "nbformat": 4,
 "nbformat_minor": 4
}
